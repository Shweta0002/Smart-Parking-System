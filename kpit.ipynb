{
  "nbformat": 4,
  "nbformat_minor": 0,
  "metadata": {
    "colab": {
      "name": "Untitled0.ipynb",
      "provenance": [],
      "collapsed_sections": []
    },
    "kernelspec": {
      "name": "python3",
      "display_name": "Python 3"
    },
    "accelerator": "GPU"
  },
  "cells": [
    {
      "cell_type": "code",
      "metadata": {
        "id": "1JYv8u5v9_5f",
        "colab_type": "code",
        "outputId": "4a852fde-f0cf-4ddc-c24d-b5cfeda09c25",
        "colab": {
          "base_uri": "https://localhost:8080/",
          "height": 187
        }
      },
      "source": [
        "!pip install emoji"
      ],
      "execution_count": 0,
      "outputs": [
        {
          "output_type": "stream",
          "text": [
            "Collecting emoji\n",
            "\u001b[?25l  Downloading https://files.pythonhosted.org/packages/1b/d7/2746b4dd67375ce253e777ba54869545d24d2b0249ebcf83735c99df68d5/emoji-0.5.3.tar.gz (43kB)\n",
            "\r\u001b[K     |███████▌                        | 10kB 14.2MB/s eta 0:00:01\r\u001b[K     |███████████████                 | 20kB 3.2MB/s eta 0:00:01\r\u001b[K     |██████████████████████▋         | 30kB 4.5MB/s eta 0:00:01\r\u001b[K     |██████████████████████████████▏ | 40kB 3.0MB/s eta 0:00:01\r\u001b[K     |████████████████████████████████| 51kB 3.3MB/s \n",
            "\u001b[?25hBuilding wheels for collected packages: emoji\n",
            "  Building wheel for emoji (setup.py) ... \u001b[?25l\u001b[?25hdone\n",
            "  Created wheel for emoji: filename=emoji-0.5.3-cp36-none-any.whl size=42175 sha256=35c7b11137ae5a46be7206f42e6b574c96334ca720382595a1998eb19b0228b7\n",
            "  Stored in directory: /root/.cache/pip/wheels/86/09/26/f944015841423cd516e8a97f30e29be59e53461aea8b7d3458\n",
            "Successfully built emoji\n",
            "Installing collected packages: emoji\n",
            "Successfully installed emoji-0.5.3\n"
          ],
          "name": "stdout"
        }
      ]
    },
    {
      "cell_type": "code",
      "metadata": {
        "id": "9PySWo2H-C6_",
        "colab_type": "code",
        "colab": {}
      },
      "source": [
        "import emoji"
      ],
      "execution_count": 0,
      "outputs": []
    },
    {
      "cell_type": "code",
      "metadata": {
        "id": "Rcoc45Zt-JLh",
        "colab_type": "code",
        "outputId": "53418654-503b-4f51-bede-73b015cab0c2",
        "colab": {
          "base_uri": "https://localhost:8080/",
          "height": 1000
        }
      },
      "source": [
        "emoji.EMOJI_ALIAS_UNICODE"
      ],
      "execution_count": 0,
      "outputs": [
        {
          "output_type": "execute_result",
          "data": {
            "text/plain": [
              "{':1st_place_medal:': '🥇',\n",
              " ':2nd_place_medal:': '🥈',\n",
              " ':3rd_place_medal:': '🥉',\n",
              " ':AB_button_(blood_type):': '🆎',\n",
              " ':ATM_sign:': '🏧',\n",
              " ':A_button_(blood_type):': '🅰',\n",
              " ':Afghanistan:': '🇦🇫',\n",
              " ':Albania:': '🇦🇱',\n",
              " ':Algeria:': '🇩🇿',\n",
              " ':American_Samoa:': '🇦🇸',\n",
              " ':Andorra:': '🇦🇩',\n",
              " ':Angola:': '🇦🇴',\n",
              " ':Anguilla:': '🇦🇮',\n",
              " ':Antarctica:': '🇦🇶',\n",
              " ':Antigua_&_Barbuda:': '🇦🇬',\n",
              " ':Aquarius:': '♒',\n",
              " ':Argentina:': '🇦🇷',\n",
              " ':Aries:': '♈',\n",
              " ':Armenia:': '🇦🇲',\n",
              " ':Aruba:': '🇦🇼',\n",
              " ':Ascension_Island:': '🇦🇨',\n",
              " ':Australia:': '🇦🇺',\n",
              " ':Austria:': '🇦🇹',\n",
              " ':Azerbaijan:': '🇦🇿',\n",
              " ':BACK_arrow:': '🔙',\n",
              " ':B_button_(blood_type):': '🅱',\n",
              " ':Bahamas:': '🇧🇸',\n",
              " ':Bahrain:': '🇧🇭',\n",
              " ':Bangladesh:': '🇧🇩',\n",
              " ':Barbados:': '🇧🇧',\n",
              " ':Belarus:': '🇧🇾',\n",
              " ':Belgium:': '🇧🇪',\n",
              " ':Belize:': '🇧🇿',\n",
              " ':Benin:': '🇧🇯',\n",
              " ':Bermuda:': '🇧🇲',\n",
              " ':Bhutan:': '🇧🇹',\n",
              " ':Bolivia:': '🇧🇴',\n",
              " ':Bosnia_&_Herzegovina:': '🇧🇦',\n",
              " ':Botswana:': '🇧🇼',\n",
              " ':Bouvet_Island:': '🇧🇻',\n",
              " ':Brazil:': '🇧🇷',\n",
              " ':British_Indian_Ocean_Territory:': '🇮🇴',\n",
              " ':British_Virgin_Islands:': '🇻🇬',\n",
              " ':Brunei:': '🇧🇳',\n",
              " ':Bulgaria:': '🇧🇬',\n",
              " ':Burkina_Faso:': '🇧🇫',\n",
              " ':Burundi:': '🇧🇮',\n",
              " ':CL_button:': '🆑',\n",
              " ':COOL_button:': '🆒',\n",
              " ':Cambodia:': '🇰🇭',\n",
              " ':Cameroon:': '🇨🇲',\n",
              " ':Canada:': '🇨🇦',\n",
              " ':Canary_Islands:': '🇮🇨',\n",
              " ':Cancer:': '♋',\n",
              " ':Cape_Verde:': '🇨🇻',\n",
              " ':Capricorn:': '♑',\n",
              " ':Caribbean_Netherlands:': '🇧🇶',\n",
              " ':Cayman_Islands:': '🇰🇾',\n",
              " ':Central_African_Republic:': '🇨🇫',\n",
              " ':Ceuta_&_Melilla:': '🇪🇦',\n",
              " ':Chad:': '🇹🇩',\n",
              " ':Chile:': '🇨🇱',\n",
              " ':China:': '🇨🇳',\n",
              " ':Christmas_Island:': '🇨🇽',\n",
              " ':Christmas_tree:': '🎄',\n",
              " ':Clipperton_Island:': '🇨🇵',\n",
              " ':Cocos_(Keeling)_Islands:': '🇨🇨',\n",
              " ':Colombia:': '🇨🇴',\n",
              " ':Comoros:': '🇰🇲',\n",
              " ':Congo_-_Brazzaville:': '🇨🇬',\n",
              " ':Congo_-_Kinshasa:': '🇨🇩',\n",
              " ':Cook_Islands:': '🇨🇰',\n",
              " ':Costa_Rica:': '🇨🇷',\n",
              " ':Croatia:': '🇭🇷',\n",
              " ':Cuba:': '🇨🇺',\n",
              " ':Curaçao:': '🇨🇼',\n",
              " ':Cyprus:': '🇨🇾',\n",
              " ':Czechia:': '🇨🇿',\n",
              " ':Côte_d’Ivoire:': '🇨🇮',\n",
              " ':Denmark:': '🇩🇰',\n",
              " ':Diego_Garcia:': '🇩🇬',\n",
              " ':Djibouti:': '🇩🇯',\n",
              " ':Dominica:': '🇩🇲',\n",
              " ':Dominican_Republic:': '🇩🇴',\n",
              " ':END_arrow:': '🔚',\n",
              " ':Ecuador:': '🇪🇨',\n",
              " ':Egypt:': '🇪🇬',\n",
              " ':El_Salvador:': '🇸🇻',\n",
              " ':England:': '🏴\\U000e0067\\U000e0062\\U000e0065\\U000e006e\\U000e0067\\U000e007f',\n",
              " ':Equatorial_Guinea:': '🇬🇶',\n",
              " ':Eritrea:': '🇪🇷',\n",
              " ':Estonia:': '🇪🇪',\n",
              " ':Ethiopia:': '🇪🇹',\n",
              " ':European_Union:': '🇪🇺',\n",
              " ':FREE_button:': '🆓',\n",
              " ':Falkland_Islands:': '🇫🇰',\n",
              " ':Faroe_Islands:': '🇫🇴',\n",
              " ':Fiji:': '🇫🇯',\n",
              " ':Finland:': '🇫🇮',\n",
              " ':France:': '🇫🇷',\n",
              " ':French_Guiana:': '🇬🇫',\n",
              " ':French_Polynesia:': '🇵🇫',\n",
              " ':French_Southern_Territories:': '🇹🇫',\n",
              " ':Gabon:': '🇬🇦',\n",
              " ':Gambia:': '🇬🇲',\n",
              " ':Gemini:': '♊',\n",
              " ':Georgia:': '🇬🇪',\n",
              " ':Germany:': '🇩🇪',\n",
              " ':Ghana:': '🇬🇭',\n",
              " ':Gibraltar:': '🇬🇮',\n",
              " ':Greece:': '🇬🇷',\n",
              " ':Greenland:': '🇬🇱',\n",
              " ':Grenada:': '🇬🇩',\n",
              " ':Guadeloupe:': '🇬🇵',\n",
              " ':Guam:': '🇬🇺',\n",
              " ':Guatemala:': '🇬🇹',\n",
              " ':Guernsey:': '🇬🇬',\n",
              " ':Guinea:': '🇬🇳',\n",
              " ':Guinea-Bissau:': '🇬🇼',\n",
              " ':Guyana:': '🇬🇾',\n",
              " ':Haiti:': '🇭🇹',\n",
              " ':Heard_&_McDonald_Islands:': '🇭🇲',\n",
              " ':Honduras:': '🇭🇳',\n",
              " ':Hong_Kong_SAR_China:': '🇭🇰',\n",
              " ':Hungary:': '🇭🇺',\n",
              " ':ID_button:': '🆔',\n",
              " ':Iceland:': '🇮🇸',\n",
              " ':India:': '🇮🇳',\n",
              " ':Indonesia:': '🇮🇩',\n",
              " ':Iran:': '🇮🇷',\n",
              " ':Iraq:': '🇮🇶',\n",
              " ':Ireland:': '🇮🇪',\n",
              " ':Isle_of_Man:': '🇮🇲',\n",
              " ':Israel:': '🇮🇱',\n",
              " ':Italy:': '🇮🇹',\n",
              " ':Jamaica:': '🇯🇲',\n",
              " ':Japan:': '🇯🇵',\n",
              " ':Japanese_acceptable_button:': '🉑',\n",
              " ':Japanese_application_button:': '🈸',\n",
              " ':Japanese_bargain_button:': '🉐',\n",
              " ':Japanese_castle:': '🏯',\n",
              " ':Japanese_congratulations_button:': '㊗',\n",
              " ':Japanese_discount_button:': '🈹',\n",
              " ':Japanese_dolls:': '🎎',\n",
              " ':Japanese_free_of_charge_button:': '🈚',\n",
              " ':Japanese_here_button:': '🈁',\n",
              " ':Japanese_monthly_amount_button:': '🈷',\n",
              " ':Japanese_no_vacancy_button:': '🈵',\n",
              " ':Japanese_not_free_of_charge_button:': '🈶',\n",
              " ':Japanese_open_for_business_button:': '🈺',\n",
              " ':Japanese_passing_grade_button:': '🈴',\n",
              " ':Japanese_post_office:': '🏣',\n",
              " ':Japanese_prohibited_button:': '🈲',\n",
              " ':Japanese_reserved_button:': '🈯',\n",
              " ':Japanese_secret_button:': '㊙',\n",
              " ':Japanese_service_charge_button:': '🈂',\n",
              " ':Japanese_symbol_for_beginner:': '🔰',\n",
              " ':Japanese_vacancy_button:': '🈳',\n",
              " ':Jersey:': '🇯🇪',\n",
              " ':Jordan:': '🇯🇴',\n",
              " ':Kazakhstan:': '🇰🇿',\n",
              " ':Kenya:': '🇰🇪',\n",
              " ':Kiribati:': '🇰🇮',\n",
              " ':Kosovo:': '🇽🇰',\n",
              " ':Kuwait:': '🇰🇼',\n",
              " ':Kyrgyzstan:': '🇰🇬',\n",
              " ':Laos:': '🇱🇦',\n",
              " ':Latvia:': '🇱🇻',\n",
              " ':Lebanon:': '🇱🇧',\n",
              " ':Leo:': '♌',\n",
              " ':Lesotho:': '🇱🇸',\n",
              " ':Liberia:': '🇱🇷',\n",
              " ':Libra:': '♎',\n",
              " ':Libya:': '🇱🇾',\n",
              " ':Liechtenstein:': '🇱🇮',\n",
              " ':Lithuania:': '🇱🇹',\n",
              " ':Luxembourg:': '🇱🇺',\n",
              " ':Macau_SAR_China:': '🇲🇴',\n",
              " ':Macedonia:': '🇲🇰',\n",
              " ':Madagascar:': '🇲🇬',\n",
              " ':Malawi:': '🇲🇼',\n",
              " ':Malaysia:': '🇲🇾',\n",
              " ':Maldives:': '🇲🇻',\n",
              " ':Mali:': '🇲🇱',\n",
              " ':Malta:': '🇲🇹',\n",
              " ':Marshall_Islands:': '🇲🇭',\n",
              " ':Martinique:': '🇲🇶',\n",
              " ':Mauritania:': '🇲🇷',\n",
              " ':Mauritius:': '🇲🇺',\n",
              " ':Mayotte:': '🇾🇹',\n",
              " ':Mexico:': '🇲🇽',\n",
              " ':Micronesia:': '🇫🇲',\n",
              " ':Moldova:': '🇲🇩',\n",
              " ':Monaco:': '🇲🇨',\n",
              " ':Mongolia:': '🇲🇳',\n",
              " ':Montenegro:': '🇲🇪',\n",
              " ':Montserrat:': '🇲🇸',\n",
              " ':Morocco:': '🇲🇦',\n",
              " ':Mozambique:': '🇲🇿',\n",
              " ':Mrs._Claus:': '🤶',\n",
              " ':Mrs._Claus_dark_skin_tone:': '🤶🏿',\n",
              " ':Mrs._Claus_light_skin_tone:': '🤶🏻',\n",
              " ':Mrs._Claus_medium-dark_skin_tone:': '🤶🏾',\n",
              " ':Mrs._Claus_medium-light_skin_tone:': '🤶🏼',\n",
              " ':Mrs._Claus_medium_skin_tone:': '🤶🏽',\n",
              " ':Myanmar_(Burma):': '🇲🇲',\n",
              " ':NEW_button:': '🆕',\n",
              " ':NG_button:': '🆖',\n",
              " ':Namibia:': '🇳🇦',\n",
              " ':Nauru:': '🇳🇷',\n",
              " ':Nepal:': '🇳🇵',\n",
              " ':Netherlands:': '🇳🇱',\n",
              " ':New_Caledonia:': '🇳🇨',\n",
              " ':New_Zealand:': '🇳🇿',\n",
              " ':Nicaragua:': '🇳🇮',\n",
              " ':Niger:': '🇳🇪',\n",
              " ':Nigeria:': '🇳🇬',\n",
              " ':Niue:': '🇳🇺',\n",
              " ':Norfolk_Island:': '🇳🇫',\n",
              " ':North_Korea:': '🇰🇵',\n",
              " ':Northern_Mariana_Islands:': '🇲🇵',\n",
              " ':Norway:': '🇳🇴',\n",
              " ':OK_button:': '🆗',\n",
              " ':OK_hand:': '👌',\n",
              " ':OK_hand_dark_skin_tone:': '👌🏿',\n",
              " ':OK_hand_light_skin_tone:': '👌🏻',\n",
              " ':OK_hand_medium-dark_skin_tone:': '👌🏾',\n",
              " ':OK_hand_medium-light_skin_tone:': '👌🏼',\n",
              " ':OK_hand_medium_skin_tone:': '👌🏽',\n",
              " ':ON!_arrow:': '🔛',\n",
              " ':O_button_(blood_type):': '🅾',\n",
              " ':Oman:': '🇴🇲',\n",
              " ':Ophiuchus:': '⛎',\n",
              " ':P_button:': '🅿',\n",
              " ':Pakistan:': '🇵🇰',\n",
              " ':Palau:': '🇵🇼',\n",
              " ':Palestinian_Territories:': '🇵🇸',\n",
              " ':Panama:': '🇵🇦',\n",
              " ':Papua_New_Guinea:': '🇵🇬',\n",
              " ':Paraguay:': '🇵🇾',\n",
              " ':Peru:': '🇵🇪',\n",
              " ':Philippines:': '🇵🇭',\n",
              " ':Pisces:': '♓',\n",
              " ':Pitcairn_Islands:': '🇵🇳',\n",
              " ':Poland:': '🇵🇱',\n",
              " ':Portugal:': '🇵🇹',\n",
              " ':Puerto_Rico:': '🇵🇷',\n",
              " ':Qatar:': '🇶🇦',\n",
              " ':Romania:': '🇷🇴',\n",
              " ':Russia:': '🇷🇺',\n",
              " ':Rwanda:': '🇷🇼',\n",
              " ':Réunion:': '🇷🇪',\n",
              " ':SOON_arrow:': '🔜',\n",
              " ':SOS_button:': '🆘',\n",
              " ':Sagittarius:': '♐',\n",
              " ':Samoa:': '🇼🇸',\n",
              " ':San_Marino:': '🇸🇲',\n",
              " ':Santa_Claus:': '🎅',\n",
              " ':Santa_Claus_dark_skin_tone:': '🎅🏿',\n",
              " ':Santa_Claus_light_skin_tone:': '🎅🏻',\n",
              " ':Santa_Claus_medium-dark_skin_tone:': '🎅🏾',\n",
              " ':Santa_Claus_medium-light_skin_tone:': '🎅🏼',\n",
              " ':Santa_Claus_medium_skin_tone:': '🎅🏽',\n",
              " ':Saudi_Arabia:': '🇸🇦',\n",
              " ':Scorpio:': '♏',\n",
              " ':Scotland:': '🏴\\U000e0067\\U000e0062\\U000e0073\\U000e0063\\U000e0074\\U000e007f',\n",
              " ':Senegal:': '🇸🇳',\n",
              " ':Serbia:': '🇷🇸',\n",
              " ':Seychelles:': '🇸🇨',\n",
              " ':Sierra_Leone:': '🇸🇱',\n",
              " ':Singapore:': '🇸🇬',\n",
              " ':Sint_Maarten:': '🇸🇽',\n",
              " ':Slovakia:': '🇸🇰',\n",
              " ':Slovenia:': '🇸🇮',\n",
              " ':Solomon_Islands:': '🇸🇧',\n",
              " ':Somalia:': '🇸🇴',\n",
              " ':South_Africa:': '🇿🇦',\n",
              " ':South_Georgia_&_South_Sandwich_Islands:': '🇬🇸',\n",
              " ':South_Korea:': '🇰🇷',\n",
              " ':South_Sudan:': '🇸🇸',\n",
              " ':Spain:': '🇪🇸',\n",
              " ':Sri_Lanka:': '🇱🇰',\n",
              " ':St._Barthélemy:': '🇧🇱',\n",
              " ':St._Helena:': '🇸🇭',\n",
              " ':St._Kitts_&_Nevis:': '🇰🇳',\n",
              " ':St._Lucia:': '🇱🇨',\n",
              " ':St._Martin:': '🇲🇫',\n",
              " ':St._Pierre_&_Miquelon:': '🇵🇲',\n",
              " ':St._Vincent_&_Grenadines:': '🇻🇨',\n",
              " ':Statue_of_Liberty:': '🗽',\n",
              " ':Sudan:': '🇸🇩',\n",
              " ':Suriname:': '🇸🇷',\n",
              " ':Svalbard_&_Jan_Mayen:': '🇸🇯',\n",
              " ':Swaziland:': '🇸🇿',\n",
              " ':Sweden:': '🇸🇪',\n",
              " ':Switzerland:': '🇨🇭',\n",
              " ':Syria:': '🇸🇾',\n",
              " ':São_Tomé_&_Príncipe:': '🇸🇹',\n",
              " ':T-Rex:': '\\U0001f996',\n",
              " ':TOP_arrow:': '🔝',\n",
              " ':Taiwan:': '🇹🇼',\n",
              " ':Tajikistan:': '🇹🇯',\n",
              " ':Tanzania:': '🇹🇿',\n",
              " ':Taurus:': '♉',\n",
              " ':Thailand:': '🇹🇭',\n",
              " ':Timor-Leste:': '🇹🇱',\n",
              " ':Togo:': '🇹🇬',\n",
              " ':Tokelau:': '🇹🇰',\n",
              " ':Tokyo_tower:': '🗼',\n",
              " ':Tonga:': '🇹🇴',\n",
              " ':Trinidad_&_Tobago:': '🇹🇹',\n",
              " ':Tristan_da_Cunha:': '🇹🇦',\n",
              " ':Tunisia:': '🇹🇳',\n",
              " ':Turkey:': '🇹🇷',\n",
              " ':Turkmenistan:': '🇹🇲',\n",
              " ':Turks_&_Caicos_Islands:': '🇹🇨',\n",
              " ':Tuvalu:': '🇹🇻',\n",
              " ':U.S._Outlying_Islands:': '🇺🇲',\n",
              " ':U.S._Virgin_Islands:': '🇻🇮',\n",
              " ':UP!_button:': '🆙',\n",
              " ':Uganda:': '🇺🇬',\n",
              " ':Ukraine:': '🇺🇦',\n",
              " ':United_Arab_Emirates:': '🇦🇪',\n",
              " ':United_Kingdom:': '🇬🇧',\n",
              " ':United_Nations:': '🇺🇳',\n",
              " ':United_States:': '🇺🇸',\n",
              " ':Uruguay:': '🇺🇾',\n",
              " ':Uzbekistan:': '🇺🇿',\n",
              " ':VS_button:': '🆚',\n",
              " ':Vanuatu:': '🇻🇺',\n",
              " ':Vatican_City:': '🇻🇦',\n",
              " ':Venezuela:': '🇻🇪',\n",
              " ':Vietnam:': '🇻🇳',\n",
              " ':Virgo:': '♍',\n",
              " ':Wales:': '🏴\\U000e0067\\U000e0062\\U000e0077\\U000e006c\\U000e0073\\U000e007f',\n",
              " ':Wallis_&_Futuna:': '🇼🇫',\n",
              " ':Western_Sahara:': '🇪🇭',\n",
              " ':Yemen:': '🇾🇪',\n",
              " ':Zambia:': '🇿🇲',\n",
              " ':Zimbabwe:': '🇿🇼',\n",
              " ':abacus:': '\\U0001f9ee',\n",
              " ':adhesive_bandage:': '\\U0001fa79',\n",
              " ':admission_tickets:': '🎟',\n",
              " ':adult:': '\\U0001f9d1',\n",
              " ':adult_dark_skin_tone:': '\\U0001f9d1🏿',\n",
              " ':adult_light_skin_tone:': '\\U0001f9d1🏻',\n",
              " ':adult_medium-dark_skin_tone:': '\\U0001f9d1🏾',\n",
              " ':adult_medium-light_skin_tone:': '\\U0001f9d1🏼',\n",
              " ':adult_medium_skin_tone:': '\\U0001f9d1🏽',\n",
              " ':aerial_tramway:': '🚡',\n",
              " ':airplane:': '✈',\n",
              " ':airplane_arrival:': '🛬',\n",
              " ':airplane_departure:': '🛫',\n",
              " ':alarm_clock:': '⏰',\n",
              " ':alembic:': '⚗',\n",
              " ':alien:': '👽',\n",
              " ':alien_monster:': '👾',\n",
              " ':ambulance:': '🚑',\n",
              " ':american_football:': '🏈',\n",
              " ':amphora:': '🏺',\n",
              " ':anchor:': '⚓',\n",
              " ':anger_symbol:': '💢',\n",
              " ':angry_face:': '😠',\n",
              " ':angry_face_with_horns:': '👿',\n",
              " ':anguished_face:': '😧',\n",
              " ':ant:': '🐜',\n",
              " ':antenna_bars:': '📶',\n",
              " ':anxious_face_with_sweat:': '😰',\n",
              " ':articulated_lorry:': '🚛',\n",
              " ':artist_palette:': '🎨',\n",
              " ':astonished_face:': '😲',\n",
              " ':atom_symbol:': '⚛',\n",
              " ':auto_rickshaw:': '\\U0001f6fa',\n",
              " ':automobile:': '🚗',\n",
              " ':avocado:': '🥑',\n",
              " ':axe:': '\\U0001fa93',\n",
              " ':baby:': '👶',\n",
              " ':baby_angel:': '👼',\n",
              " ':baby_angel_dark_skin_tone:': '👼🏿',\n",
              " ':baby_angel_light_skin_tone:': '👼🏻',\n",
              " ':baby_angel_medium-dark_skin_tone:': '👼🏾',\n",
              " ':baby_angel_medium-light_skin_tone:': '👼🏼',\n",
              " ':baby_angel_medium_skin_tone:': '👼🏽',\n",
              " ':baby_bottle:': '🍼',\n",
              " ':baby_chick:': '🐤',\n",
              " ':baby_dark_skin_tone:': '👶🏿',\n",
              " ':baby_light_skin_tone:': '👶🏻',\n",
              " ':baby_medium-dark_skin_tone:': '👶🏾',\n",
              " ':baby_medium-light_skin_tone:': '👶🏼',\n",
              " ':baby_medium_skin_tone:': '👶🏽',\n",
              " ':baby_symbol:': '🚼',\n",
              " ':backhand_index_pointing_down:': '👇',\n",
              " ':backhand_index_pointing_down_dark_skin_tone:': '👇🏿',\n",
              " ':backhand_index_pointing_down_light_skin_tone:': '👇🏻',\n",
              " ':backhand_index_pointing_down_medium-dark_skin_tone:': '👇🏾',\n",
              " ':backhand_index_pointing_down_medium-light_skin_tone:': '👇🏼',\n",
              " ':backhand_index_pointing_down_medium_skin_tone:': '👇🏽',\n",
              " ':backhand_index_pointing_left:': '👈',\n",
              " ':backhand_index_pointing_left_dark_skin_tone:': '👈🏿',\n",
              " ':backhand_index_pointing_left_light_skin_tone:': '👈🏻',\n",
              " ':backhand_index_pointing_left_medium-dark_skin_tone:': '👈🏾',\n",
              " ':backhand_index_pointing_left_medium-light_skin_tone:': '👈🏼',\n",
              " ':backhand_index_pointing_left_medium_skin_tone:': '👈🏽',\n",
              " ':backhand_index_pointing_right:': '👉',\n",
              " ':backhand_index_pointing_right_dark_skin_tone:': '👉🏿',\n",
              " ':backhand_index_pointing_right_light_skin_tone:': '👉🏻',\n",
              " ':backhand_index_pointing_right_medium-dark_skin_tone:': '👉🏾',\n",
              " ':backhand_index_pointing_right_medium-light_skin_tone:': '👉🏼',\n",
              " ':backhand_index_pointing_right_medium_skin_tone:': '👉🏽',\n",
              " ':backhand_index_pointing_up:': '👆',\n",
              " ':backhand_index_pointing_up_dark_skin_tone:': '👆🏿',\n",
              " ':backhand_index_pointing_up_light_skin_tone:': '👆🏻',\n",
              " ':backhand_index_pointing_up_medium-dark_skin_tone:': '👆🏾',\n",
              " ':backhand_index_pointing_up_medium-light_skin_tone:': '👆🏼',\n",
              " ':backhand_index_pointing_up_medium_skin_tone:': '👆🏽',\n",
              " ':bacon:': '🥓',\n",
              " ':badger:': '\\U0001f9a1',\n",
              " ':badminton:': '🏸',\n",
              " ':bagel:': '\\U0001f96f',\n",
              " ':baggage_claim:': '🛄',\n",
              " ':baguette_bread:': '🥖',\n",
              " ':balance_scale:': '⚖',\n",
              " ':bald:': '\\U0001f9b2',\n",
              " ':bald_man:': '👨\\u200d\\U0001f9b2',\n",
              " ':bald_woman:': '👩\\u200d\\U0001f9b2',\n",
              " ':ballet_shoes:': '\\U0001fa70',\n",
              " ':balloon:': '🎈',\n",
              " ':ballot_box_with_ballot:': '🗳',\n",
              " ':ballot_box_with_check:': '☑',\n",
              " ':banana:': '🍌',\n",
              " ':banjo:': '\\U0001fa95',\n",
              " ':bank:': '🏦',\n",
              " ':bar_chart:': '📊',\n",
              " ':barber_pole:': '💈',\n",
              " ':baseball:': '⚾',\n",
              " ':basket:': '\\U0001f9fa',\n",
              " ':basketball:': '🏀',\n",
              " ':bat:': '🦇',\n",
              " ':bathtub:': '🛁',\n",
              " ':battery:': '🔋',\n",
              " ':beach_with_umbrella:': '🏖',\n",
              " ':beaming_face_with_smiling_eyes:': '😁',\n",
              " ':bear_face:': '🐻',\n",
              " ':bearded_person:': '\\U0001f9d4',\n",
              " ':bearded_person_dark_skin_tone:': '\\U0001f9d4🏿',\n",
              " ':bearded_person_light_skin_tone:': '\\U0001f9d4🏻',\n",
              " ':bearded_person_medium-dark_skin_tone:': '\\U0001f9d4🏾',\n",
              " ':bearded_person_medium-light_skin_tone:': '\\U0001f9d4🏼',\n",
              " ':bearded_person_medium_skin_tone:': '\\U0001f9d4🏽',\n",
              " ':beating_heart:': '💓',\n",
              " ':bed:': '🛏',\n",
              " ':beer_mug:': '🍺',\n",
              " ':bell:': '🔔',\n",
              " ':bell_with_slash:': '🔕',\n",
              " ':bellhop_bell:': '🛎',\n",
              " ':bento_box:': '🍱',\n",
              " ':beverage_box:': '\\U0001f9c3',\n",
              " ':bicycle:': '🚲',\n",
              " ':bikini:': '👙',\n",
              " ':billed_cap:': '\\U0001f9e2',\n",
              " ':biohazard:': '☣',\n",
              " ':bird:': '🐦',\n",
              " ':birthday_cake:': '🎂',\n",
              " ':black_circle:': '⚫',\n",
              " ':black_flag:': '🏴',\n",
              " ':black_heart:': '🖤',\n",
              " ':black_large_square:': '⬛',\n",
              " ':black_medium-small_square:': '◾',\n",
              " ':black_medium_square:': '◼',\n",
              " ':black_nib:': '✒',\n",
              " ':black_small_square:': '▪',\n",
              " ':black_square_button:': '🔲',\n",
              " ':blond-haired_man:': '👱\\u200d♂️',\n",
              " ':blond-haired_man_dark_skin_tone:': '👱🏿\\u200d♂️',\n",
              " ':blond-haired_man_light_skin_tone:': '👱🏻\\u200d♂️',\n",
              " ':blond-haired_man_medium-dark_skin_tone:': '👱🏾\\u200d♂️',\n",
              " ':blond-haired_man_medium-light_skin_tone:': '👱🏼\\u200d♂️',\n",
              " ':blond-haired_man_medium_skin_tone:': '👱🏽\\u200d♂️',\n",
              " ':blond-haired_person:': '👱',\n",
              " ':blond-haired_person_dark_skin_tone:': '👱🏿',\n",
              " ':blond-haired_person_light_skin_tone:': '👱🏻',\n",
              " ':blond-haired_person_medium-dark_skin_tone:': '👱🏾',\n",
              " ':blond-haired_person_medium-light_skin_tone:': '👱🏼',\n",
              " ':blond-haired_person_medium_skin_tone:': '👱🏽',\n",
              " ':blond-haired_woman:': '👱\\u200d♀️',\n",
              " ':blond-haired_woman_dark_skin_tone:': '👱🏿\\u200d♀️',\n",
              " ':blond-haired_woman_light_skin_tone:': '👱🏻\\u200d♀️',\n",
              " ':blond-haired_woman_medium-dark_skin_tone:': '👱🏾\\u200d♀️',\n",
              " ':blond-haired_woman_medium-light_skin_tone:': '👱🏼\\u200d♀️',\n",
              " ':blond-haired_woman_medium_skin_tone:': '👱🏽\\u200d♀️',\n",
              " ':blossom:': '🌼',\n",
              " ':blowfish:': '🐡',\n",
              " ':blue_book:': '📘',\n",
              " ':blue_circle:': '🔵',\n",
              " ':blue_heart:': '💙',\n",
              " ':blue_square:': '\\U0001f7e6',\n",
              " ':boar:': '🐗',\n",
              " ':bomb:': '💣',\n",
              " ':bone:': '\\U0001f9b4',\n",
              " ':bookmark:': '🔖',\n",
              " ':bookmark_tabs:': '📑',\n",
              " ':books:': '📚',\n",
              " ':bottle_with_popping_cork:': '🍾',\n",
              " ':bouquet:': '💐',\n",
              " ':bow_and_arrow:': '🏹',\n",
              " ':bowl_with_spoon:': '\\U0001f963',\n",
              " ':bowling:': '🎳',\n",
              " ':boxing_glove:': '🥊',\n",
              " ':boy:': '👦',\n",
              " ':boy_dark_skin_tone:': '👦🏿',\n",
              " ':boy_light_skin_tone:': '👦🏻',\n",
              " ':boy_medium-dark_skin_tone:': '👦🏾',\n",
              " ':boy_medium-light_skin_tone:': '👦🏼',\n",
              " ':boy_medium_skin_tone:': '👦🏽',\n",
              " ':brain:': '\\U0001f9e0',\n",
              " ':bread:': '🍞',\n",
              " ':breast-feeding:': '\\U0001f931',\n",
              " ':breast-feeding_dark_skin_tone:': '\\U0001f931🏿',\n",
              " ':breast-feeding_light_skin_tone:': '\\U0001f931🏻',\n",
              " ':breast-feeding_medium-dark_skin_tone:': '\\U0001f931🏾',\n",
              " ':breast-feeding_medium-light_skin_tone:': '\\U0001f931🏼',\n",
              " ':breast-feeding_medium_skin_tone:': '\\U0001f931🏽',\n",
              " ':brick:': '\\U0001f9f1',\n",
              " ':bride_with_veil:': '👰',\n",
              " ':bride_with_veil_dark_skin_tone:': '👰🏿',\n",
              " ':bride_with_veil_light_skin_tone:': '👰🏻',\n",
              " ':bride_with_veil_medium-dark_skin_tone:': '👰🏾',\n",
              " ':bride_with_veil_medium-light_skin_tone:': '👰🏼',\n",
              " ':bride_with_veil_medium_skin_tone:': '👰🏽',\n",
              " ':bridge_at_night:': '🌉',\n",
              " ':briefcase:': '💼',\n",
              " ':briefs:': '\\U0001fa72',\n",
              " ':bright_button:': '🔆',\n",
              " ':broccoli:': '\\U0001f966',\n",
              " ':broken_heart:': '💔',\n",
              " ':broom:': '\\U0001f9f9',\n",
              " ':brown_circle:': '\\U0001f7e4',\n",
              " ':brown_heart:': '\\U0001f90e',\n",
              " ':brown_square:': '\\U0001f7eb',\n",
              " ':bug:': '🐛',\n",
              " ':building_construction:': '🏗',\n",
              " ':bullet_train:': '🚅',\n",
              " ':burrito:': '🌯',\n",
              " ':bus:': '🚌',\n",
              " ':bus_stop:': '🚏',\n",
              " ':bust_in_silhouette:': '👤',\n",
              " ':busts_in_silhouette:': '👥',\n",
              " ':butter:': '\\U0001f9c8',\n",
              " ':butterfly:': '🦋',\n",
              " ':cactus:': '🌵',\n",
              " ':calendar:': '📆',\n",
              " ':call_me_hand:': '🤙',\n",
              " ':call_me_hand_dark_skin_tone:': '🤙🏿',\n",
              " ':call_me_hand_light_skin_tone:': '🤙🏻',\n",
              " ':call_me_hand_medium-dark_skin_tone:': '🤙🏾',\n",
              " ':call_me_hand_medium-light_skin_tone:': '🤙🏼',\n",
              " ':call_me_hand_medium_skin_tone:': '🤙🏽',\n",
              " ':camel:': '🐫',\n",
              " ':camera:': '📷',\n",
              " ':camera_with_flash:': '📸',\n",
              " ':camping:': '🏕',\n",
              " ':candle:': '🕯',\n",
              " ':candy:': '🍬',\n",
              " ':canned_food:': '\\U0001f96b',\n",
              " ':canoe:': '🛶',\n",
              " ':card_file_box:': '🗃',\n",
              " ':card_index:': '📇',\n",
              " ':card_index_dividers:': '🗂',\n",
              " ':carousel_horse:': '🎠',\n",
              " ':carp_streamer:': '🎏',\n",
              " ':carrot:': '🥕',\n",
              " ':castle:': '🏰',\n",
              " ':cat:': '🐱',\n",
              " ':cat_face:': '🐱',\n",
              " ':cat_face_with_tears_of_joy:': '😹',\n",
              " ':cat_face_with_wry_smile:': '😼',\n",
              " ':chains:': '⛓',\n",
              " ':chair:': '\\U0001fa91',\n",
              " ':chart_decreasing:': '📉',\n",
              " ':chart_increasing:': '📈',\n",
              " ':chart_increasing_with_yen:': '💹',\n",
              " ':cheese_wedge:': '🧀',\n",
              " ':chequered_flag:': '🏁',\n",
              " ':cherries:': '🍒',\n",
              " ':cherry_blossom:': '🌸',\n",
              " ':chess_pawn:': '♟',\n",
              " ':chestnut:': '🌰',\n",
              " ':chicken:': '🐔',\n",
              " ':child:': '\\U0001f9d2',\n",
              " ':child_dark_skin_tone:': '\\U0001f9d2🏿',\n",
              " ':child_light_skin_tone:': '\\U0001f9d2🏻',\n",
              " ':child_medium-dark_skin_tone:': '\\U0001f9d2🏾',\n",
              " ':child_medium-light_skin_tone:': '\\U0001f9d2🏼',\n",
              " ':child_medium_skin_tone:': '\\U0001f9d2🏽',\n",
              " ':children_crossing:': '🚸',\n",
              " ':chipmunk:': '🐿',\n",
              " ':chocolate_bar:': '🍫',\n",
              " ':chopsticks:': '\\U0001f962',\n",
              " ':church:': '⛪',\n",
              " ':cigarette:': '🚬',\n",
              " ':cinema:': '🎦',\n",
              " ':circled_M:': 'Ⓜ',\n",
              " ':circus_tent:': '🎪',\n",
              " ':cityscape:': '🏙',\n",
              " ':cityscape_at_dusk:': '🌆',\n",
              " ':clamp:': '🗜',\n",
              " ':clapper_board:': '🎬',\n",
              " ':clapping_hands:': '👏',\n",
              " ':clapping_hands_dark_skin_tone:': '👏🏿',\n",
              " ':clapping_hands_light_skin_tone:': '👏🏻',\n",
              " ':clapping_hands_medium-dark_skin_tone:': '👏🏾',\n",
              " ':clapping_hands_medium-light_skin_tone:': '👏🏼',\n",
              " ':clapping_hands_medium_skin_tone:': '👏🏽',\n",
              " ':classical_building:': '🏛',\n",
              " ':clinking_beer_mugs:': '🍻',\n",
              " ':clinking_glasses:': '🥂',\n",
              " ':clipboard:': '📋',\n",
              " ':clockwise_vertical_arrows:': '🔃',\n",
              " ':closed_book:': '📕',\n",
              " ':closed_mailbox_with_lowered_flag:': '📪',\n",
              " ':closed_mailbox_with_raised_flag:': '📫',\n",
              " ':closed_umbrella:': '🌂',\n",
              " ':cloud:': '☁',\n",
              " ':cloud_with_lightning:': '🌩',\n",
              " ':cloud_with_lightning_and_rain:': '⛈',\n",
              " ':cloud_with_rain:': '🌧',\n",
              " ':cloud_with_snow:': '🌨',\n",
              " ':clown_face:': '🤡',\n",
              " ':club_suit:': '♣',\n",
              " ':clutch_bag:': '👝',\n",
              " ':coat:': '\\U0001f9e5',\n",
              " ':cocktail_glass:': '🍸',\n",
              " ':coconut:': '\\U0001f965',\n",
              " ':coffin:': '⚰',\n",
              " ':cold_face:': '\\U0001f976',\n",
              " ':collision:': '💥',\n",
              " ':comet:': '☄',\n",
              " ':compass:': '\\U0001f9ed',\n",
              " ':computer_disk:': '💽',\n",
              " ':computer_mouse:': '🖱',\n",
              " ':confetti_ball:': '🎊',\n",
              " ':confounded_face:': '😖',\n",
              " ':confused_face:': '😕',\n",
              " ':construction:': '🚧',\n",
              " ':construction_worker:': '👷',\n",
              " ':construction_worker_dark_skin_tone:': '👷🏿',\n",
              " ':construction_worker_light_skin_tone:': '👷🏻',\n",
              " ':construction_worker_medium-dark_skin_tone:': '👷🏾',\n",
              " ':construction_worker_medium-light_skin_tone:': '👷🏼',\n",
              " ':construction_worker_medium_skin_tone:': '👷🏽',\n",
              " ':control_knobs:': '🎛',\n",
              " ':convenience_store:': '🏪',\n",
              " ':cooked_rice:': '🍚',\n",
              " ':cookie:': '🍪',\n",
              " ':cooking:': '🍳',\n",
              " ':copyright:': '©',\n",
              " ':couch_and_lamp:': '🛋',\n",
              " ':counterclockwise_arrows_button:': '🔄',\n",
              " ':couple_with_heart:': '💑',\n",
              " ':couple_with_heart_man_man:': '👨\\u200d❤️\\u200d👨',\n",
              " ':couple_with_heart_woman_man:': '👩\\u200d❤️\\u200d👨',\n",
              " ':couple_with_heart_woman_woman:': '👩\\u200d❤️\\u200d👩',\n",
              " ':cow:': '🐮',\n",
              " ':cow_face:': '🐮',\n",
              " ':cowboy_hat_face:': '🤠',\n",
              " ':crab:': '🦀',\n",
              " ':crayon:': '🖍',\n",
              " ':credit_card:': '💳',\n",
              " ':crescent_moon:': '🌙',\n",
              " ':cricket:': '\\U0001f997',\n",
              " ':cricket_game:': '🏏',\n",
              " ':crocodile:': '🐊',\n",
              " ':croissant:': '🥐',\n",
              " ':cross_mark:': '❌',\n",
              " ':cross_mark_button:': '❎',\n",
              " ':crossed_fingers:': '🤞',\n",
              " ':crossed_fingers_dark_skin_tone:': '🤞🏿',\n",
              " ':crossed_fingers_light_skin_tone:': '🤞🏻',\n",
              " ':crossed_fingers_medium-dark_skin_tone:': '🤞🏾',\n",
              " ':crossed_fingers_medium-light_skin_tone:': '🤞🏼',\n",
              " ':crossed_fingers_medium_skin_tone:': '🤞🏽',\n",
              " ':crossed_flags:': '🎌',\n",
              " ':crossed_swords:': '⚔',\n",
              " ':crown:': '👑',\n",
              " ':crying_cat_face:': '😿',\n",
              " ':crying_face:': '😢',\n",
              " ':crystal_ball:': '🔮',\n",
              " ':cucumber:': '🥒',\n",
              " ':cupcake:': '\\U0001f9c1',\n",
              " ':cup_with_straw:': '\\U0001f964',\n",
              " ':curling_stone:': '\\U0001f94c',\n",
              " ':curly_hair:': '\\U0001f9b1',\n",
              " ':curly-haired_man:': '👨\\u200d\\U0001f9b1',\n",
              " ':curly-haired_woman:': '👩\\u200d\\U0001f9b1',\n",
              " ':curly_loop:': '➰',\n",
              " ':currency_exchange:': '💱',\n",
              " ':curry_rice:': '🍛',\n",
              " ':custard:': '🍮',\n",
              " ':customs:': '🛃',\n",
              " ':cut_of_meat:': '\\U0001f969',\n",
              " ':cyclone:': '🌀',\n",
              " ':dagger:': '🗡',\n",
              " ':dango:': '🍡',\n",
              " ':dashing_away:': '💨',\n",
              " ':deaf_person:': '\\U0001f9cf',\n",
              " ':deciduous_tree:': '🌳',\n",
              " ':deer:': '🦌',\n",
              " ':delivery_truck:': '🚚',\n",
              " ':department_store:': '🏬',\n",
              " ':derelict_house:': '🏚',\n",
              " ':desert:': '🏜',\n",
              " ':desert_island:': '🏝',\n",
              " ':desktop_computer:': '🖥',\n",
              " ':detective:': '🕵',\n",
              " ':detective_dark_skin_tone:': '🕵🏿',\n",
              " ':detective_light_skin_tone:': '🕵🏻',\n",
              " ':detective_medium-dark_skin_tone:': '🕵🏾',\n",
              " ':detective_medium-light_skin_tone:': '🕵🏼',\n",
              " ':detective_medium_skin_tone:': '🕵🏽',\n",
              " ':diamond_suit:': '♦',\n",
              " ':diamond_with_a_dot:': '💠',\n",
              " ':dim_button:': '🔅',\n",
              " ':direct_hit:': '🎯',\n",
              " ':disappointed_face:': '😞',\n",
              " ':diving_mask:': '\\U0001f93f',\n",
              " ':diya_lamp:': '\\U0001fa94',\n",
              " ':dizzy:': '💫',\n",
              " ':dizzy_face:': '😵',\n",
              " ':dna:': '\\U0001f9ec',\n",
              " ':dog:': '🐶',\n",
              " ':dog_face:': '🐶',\n",
              " ':dollar_banknote:': '💵',\n",
              " ':dolphin:': '🐬',\n",
              " ':door:': '🚪',\n",
              " ':dotted_six-pointed_star:': '🔯',\n",
              " ':double_curly_loop:': '➿',\n",
              " ':double_exclamation_mark:': '‼',\n",
              " ':doughnut:': '🍩',\n",
              " ':dove:': '🕊',\n",
              " ':down-left_arrow:': '↙',\n",
              " ':down-right_arrow:': '↘',\n",
              " ':down_arrow:': '⬇',\n",
              " ':downcast_face_with_sweat:': '😓',\n",
              " ':downwards_button:': '🔽',\n",
              " ':dragon:': '🐉',\n",
              " ':dragon_face:': '🐲',\n",
              " ':dress:': '👗',\n",
              " ':drooling_face:': '🤤',\n",
              " ':drop_of_blood:': '\\U0001fa78',\n",
              " ':droplet:': '💧',\n",
              " ':drum:': '🥁',\n",
              " ':duck:': '🦆',\n",
              " ':dumpling:': '\\U0001f95f',\n",
              " ':dvd:': '📀',\n",
              " ':e-mail:': '📧',\n",
              " ':eagle:': '🦅',\n",
              " ':ear:': '👂',\n",
              " ':ear_dark_skin_tone:': '👂🏿',\n",
              " ':ear_light_skin_tone:': '👂🏻',\n",
              " ':ear_medium-dark_skin_tone:': '👂🏾',\n",
              " ':ear_medium-light_skin_tone:': '👂🏼',\n",
              " ':ear_medium_skin_tone:': '👂🏽',\n",
              " ':ear_of_corn:': '🌽',\n",
              " ':ear_with_hearing_aid:': '\\U0001f9bb',\n",
              " ':egg:': '🍳',\n",
              " ':eggplant:': '🍆',\n",
              " ':eight-pointed_star:': '✴',\n",
              " ':eight-spoked_asterisk:': '✳',\n",
              " ':eight-thirty:': '🕣',\n",
              " ':eight_o’clock:': '🕗',\n",
              " ':eject_button:': '⏏',\n",
              " ':electric_plug:': '🔌',\n",
              " ':elephant:': '🐘',\n",
              " ':eleven-thirty:': '🕦',\n",
              " ':eleven_o’clock:': '🕚',\n",
              " ':elf:': '\\U0001f9dd',\n",
              " ':elf_dark_skin_tone:': '\\U0001f9dd🏿',\n",
              " ':elf_light_skin_tone:': '\\U0001f9dd🏻',\n",
              " ':elf_medium-dark_skin_tone:': '\\U0001f9dd🏾',\n",
              " ':elf_medium-light_skin_tone:': '\\U0001f9dd🏼',\n",
              " ':elf_medium_skin_tone:': '\\U0001f9dd🏽',\n",
              " ':envelope:': '✉',\n",
              " ':envelope_with_arrow:': '📩',\n",
              " ':euro_banknote:': '💶',\n",
              " ':evergreen_tree:': '🌲',\n",
              " ':ewe:': '🐑',\n",
              " ':exclamation_mark:': '❗',\n",
              " ':exclamation_question_mark:': '⁉',\n",
              " ':exploding_head:': '\\U0001f92f',\n",
              " ':expressionless_face:': '😑',\n",
              " ':eye:': '👁',\n",
              " ':eye_in_speech_bubble:': '👁️\\u200d🗨️',\n",
              " ':eyes:': '👀',\n",
              " ':face_blowing_a_kiss:': '😘',\n",
              " ':face_savoring_food:': '😋',\n",
              " ':face_screaming_in_fear:': '😱',\n",
              " ':face_vomiting:': '\\U0001f92e',\n",
              " ':face_with_hand_over_mouth:': '\\U0001f92d',\n",
              " ':face_with_head-bandage:': '🤕',\n",
              " ':face_with_medical_mask:': '😷',\n",
              " ':face_with_monocle:': '\\U0001f9d0',\n",
              " ':face_with_open_mouth:': '😮',\n",
              " ':face_with_raised_eyebrow:': '\\U0001f928',\n",
              " ':face_with_rolling_eyes:': '🙄',\n",
              " ':face_with_steam_from_nose:': '😤',\n",
              " ':face_with_symbols_on_mouth:': '\\U0001f92c',\n",
              " ':face_with_tears_of_joy:': '😂',\n",
              " ':face_with_thermometer:': '🤒',\n",
              " ':face_with_tongue:': '😛',\n",
              " ':face_without_mouth:': '😶',\n",
              " ':factory:': '🏭',\n",
              " ':fairy:': '\\U0001f9da',\n",
              " ':fairy_dark_skin_tone:': '\\U0001f9da🏿',\n",
              " ':fairy_light_skin_tone:': '\\U0001f9da🏻',\n",
              " ':fairy_medium-dark_skin_tone:': '\\U0001f9da🏾',\n",
              " ':fairy_medium-light_skin_tone:': '\\U0001f9da🏼',\n",
              " ':fairy_medium_skin_tone:': '\\U0001f9da🏽',\n",
              " ':falafel:': '\\U0001f9c6',\n",
              " ':fallen_leaf:': '🍂',\n",
              " ':family:': '👪',\n",
              " ':family_man_boy:': '👨\\u200d👦',\n",
              " ':family_man_boy_boy:': '👨\\u200d👦\\u200d👦',\n",
              " ':family_man_girl:': '👨\\u200d👧',\n",
              " ':family_man_girl_boy:': '👨\\u200d👧\\u200d👦',\n",
              " ':family_man_girl_girl:': '👨\\u200d👧\\u200d👧',\n",
              " ':family_man_man_boy:': '👨\\u200d👨\\u200d👦',\n",
              " ':family_man_man_boy_boy:': '👨\\u200d👨\\u200d👦\\u200d👦',\n",
              " ':family_man_man_girl:': '👨\\u200d👨\\u200d👧',\n",
              " ':family_man_man_girl_boy:': '👨\\u200d👨\\u200d👧\\u200d👦',\n",
              " ':family_man_man_girl_girl:': '👨\\u200d👨\\u200d👧\\u200d👧',\n",
              " ':family_man_woman_boy:': '👨\\u200d👩\\u200d👦',\n",
              " ':family_man_woman_boy_boy:': '👨\\u200d👩\\u200d👦\\u200d👦',\n",
              " ':family_man_woman_girl:': '👨\\u200d👩\\u200d👧',\n",
              " ':family_man_woman_girl_boy:': '👨\\u200d👩\\u200d👧\\u200d👦',\n",
              " ':family_man_woman_girl_girl:': '👨\\u200d👩\\u200d👧\\u200d👧',\n",
              " ':family_woman_boy:': '👩\\u200d👦',\n",
              " ':family_woman_boy_boy:': '👩\\u200d👦\\u200d👦',\n",
              " ':family_woman_girl:': '👩\\u200d👧',\n",
              " ':family_woman_girl_boy:': '👩\\u200d👧\\u200d👦',\n",
              " ':family_woman_girl_girl:': '👩\\u200d👧\\u200d👧',\n",
              " ':family_woman_woman_boy:': '👩\\u200d👩\\u200d👦',\n",
              " ':family_woman_woman_boy_boy:': '👩\\u200d👩\\u200d👦\\u200d👦',\n",
              " ':family_woman_woman_girl:': '👩\\u200d👩\\u200d👧',\n",
              " ':family_woman_woman_girl_boy:': '👩\\u200d👩\\u200d👧\\u200d👦',\n",
              " ':family_woman_woman_girl_girl:': '👩\\u200d👩\\u200d👧\\u200d👧',\n",
              " ':fast-forward_button:': '⏩',\n",
              " ':fast_down_button:': '⏬',\n",
              " ':fast_reverse_button:': '⏪',\n",
              " ':fast_up_button:': '⏫',\n",
              " ':fax_machine:': '📠',\n",
              " ':fearful_face:': '😨',\n",
              " ':female_sign:': '♀',\n",
              " ':ferris_wheel:': '🎡',\n",
              " ':ferry:': '⛴',\n",
              " ':field_hockey:': '🏑',\n",
              " ':file_cabinet:': '🗄',\n",
              " ':file_folder:': '📁',\n",
              " ':film_frames:': '🎞',\n",
              " ':film_projector:': '📽',\n",
              " ':fire:': '🔥',\n",
              " ':fire_extinguisher:': '\\U0001f9ef',\n",
              " ':firecracker:': '\\U0001f9e8',\n",
              " ':fire_engine:': '🚒',\n",
              " ':fireworks:': '🎆',\n",
              " ':first_quarter_moon:': '🌓',\n",
              " ':first_quarter_moon_face:': '🌛',\n",
              " ':fish:': '🐟',\n",
              " ':fish_cake_with_swirl:': '🍥',\n",
              " ':fishing_pole:': '🎣',\n",
              " ':five-thirty:': '🕠',\n",
              " ':five_o’clock:': '🕔',\n",
              " ':flag_in_hole:': '⛳',\n",
              " ':flamingo:': '\\U0001f9a9',\n",
              " ':flashlight:': '🔦',\n",
              " ':flat_shoe:': '\\U0001f97f',\n",
              " ':fleur-de-lis:': '⚜',\n",
              " ':flexed_biceps:': '💪',\n",
              " ':flexed_biceps_dark_skin_tone:': '💪🏿',\n",
              " ':flexed_biceps_light_skin_tone:': '💪🏻',\n",
              " ':flexed_biceps_medium-dark_skin_tone:': '💪🏾',\n",
              " ':flexed_biceps_medium-light_skin_tone:': '💪🏼',\n",
              " ':flexed_biceps_medium_skin_tone:': '💪🏽',\n",
              " ':floppy_disk:': '💾',\n",
              " ':flower_playing_cards:': '🎴',\n",
              " ':flushed_face:': '😳',\n",
              " ':flying_disc:': '\\U0001f94f',\n",
              " ':flying_saucer:': '\\U0001f6f8',\n",
              " ':fog:': '🌫',\n",
              " ':foggy:': '🌁',\n",
              " ':folded_hands:': '🙏',\n",
              " ':folded_hands_dark_skin_tone:': '🙏🏿',\n",
              " ':folded_hands_light_skin_tone:': '🙏🏻',\n",
              " ':folded_hands_medium-dark_skin_tone:': '🙏🏾',\n",
              " ':folded_hands_medium-light_skin_tone:': '🙏🏼',\n",
              " ':folded_hands_medium_skin_tone:': '🙏🏽',\n",
              " ':foot:': '\\U0001f9b6',\n",
              " ':footprints:': '👣',\n",
              " ':fork_and_knife:': '🍴',\n",
              " ':fork_and_knife_with_plate:': '🍽',\n",
              " ':fortune_cookie:': '\\U0001f960',\n",
              " ':fountain:': '⛲',\n",
              " ':fountain_pen:': '🖋',\n",
              " ':four-thirty:': '🕟',\n",
              " ':four_leaf_clover:': '🍀',\n",
              " ':four_o’clock:': '🕓',\n",
              " ':fox_face:': '🦊',\n",
              " ':framed_picture:': '🖼',\n",
              " ':french_fries:': '🍟',\n",
              " ':fried_shrimp:': '🍤',\n",
              " ':frog_face:': '🐸',\n",
              " ':front-facing_baby_chick:': '🐥',\n",
              " ':frowning_face:': '☹',\n",
              " ':frowning_face_with_open_mouth:': '😦',\n",
              " ':fuel_pump:': '⛽',\n",
              " ':full_moon:': '🌕',\n",
              " ':full_moon_face:': '🌝',\n",
              " ':funeral_urn:': '⚱',\n",
              " ':game_die:': '🎲',\n",
              " ':garlic:': '\\U0001f9c4',\n",
              " ':gear:': '⚙',\n",
              " ':gem_stone:': '💎',\n",
              " ':genie:': '\\U0001f9de',\n",
              " ':ghost:': '👻',\n",
              " ':giraffe:': '\\U0001f992',\n",
              " ':girl:': '👧',\n",
              " ':girl_dark_skin_tone:': '👧🏿',\n",
              " ':girl_light_skin_tone:': '👧🏻',\n",
              " ':girl_medium-dark_skin_tone:': '👧🏾',\n",
              " ':girl_medium-light_skin_tone:': '👧🏼',\n",
              " ':girl_medium_skin_tone:': '👧🏽',\n",
              " ':glass_of_milk:': '🥛',\n",
              " ':glasses:': '👓',\n",
              " ':globe_showing_Americas:': '🌎',\n",
              " ':globe_showing_Asia-Australia:': '🌏',\n",
              " ':globe_showing_Europe-Africa:': '🌍',\n",
              " ':globe_with_meridians:': '🌐',\n",
              " ':gloves:': '\\U0001f9e4',\n",
              " ':glowing_star:': '🌟',\n",
              " ':goal_net:': '🥅',\n",
              " ':goat:': '🐐',\n",
              " ':goblin:': '👺',\n",
              " ':goggles:': '\\U0001f97d',\n",
              " ':gorilla:': '🦍',\n",
              " ':graduation_cap:': '🎓',\n",
              " ':grapes:': '🍇',\n",
              " ':green_apple:': '🍏',\n",
              " ':green_book:': '📗',\n",
              " ':green_circle:': '\\U0001f7e2',\n",
              " ':green_heart:': '💚',\n",
              " ':green_salad:': '🥗',\n",
              " ':green_square:': '\\U0001f7e9',\n",
              " ':grimacing_face:': '😬',\n",
              " ':grinning_cat_face:': '😺',\n",
              " ':grinning_cat_face_with_smiling_eyes:': '😸',\n",
              " ':grinning_face:': '😀',\n",
              " ':grinning_face_with_big_eyes:': '😃',\n",
              " ':grinning_face_with_smiling_eyes:': '😄',\n",
              " ':grinning_face_with_sweat:': '😅',\n",
              " ':grinning_squinting_face:': '😆',\n",
              " ':growing_heart:': '💗',\n",
              " ':guard:': '💂',\n",
              " ':guard_dark_skin_tone:': '💂🏿',\n",
              " ':guard_light_skin_tone:': '💂🏻',\n",
              " ':guard_medium-dark_skin_tone:': '💂🏾',\n",
              " ':guard_medium-light_skin_tone:': '💂🏼',\n",
              " ':guard_medium_skin_tone:': '💂🏽',\n",
              " ':guide_dog:': '\\U0001f9ae',\n",
              " ':guitar:': '🎸',\n",
              " ':hamburger:': '🍔',\n",
              " ':hammer:': '🔨',\n",
              " ':hammer_and_pick:': '⚒',\n",
              " ':hammer_and_wrench:': '🛠',\n",
              " ':hamster_face:': '🐹',\n",
              " ':hand_with_fingers_splayed:': '🖐',\n",
              " ':hand_with_fingers_splayed_dark_skin_tone:': '🖐🏿',\n",
              " ':hand_with_fingers_splayed_light_skin_tone:': '🖐🏻',\n",
              " ':hand_with_fingers_splayed_medium-dark_skin_tone:': '🖐🏾',\n",
              " ':hand_with_fingers_splayed_medium-light_skin_tone:': '🖐🏼',\n",
              " ':hand_with_fingers_splayed_medium_skin_tone:': '🖐🏽',\n",
              " ':handbag:': '👜',\n",
              " ':handshake:': '🤝',\n",
              " ':hatching_chick:': '🐣',\n",
              " ':headphone:': '🎧',\n",
              " ':hear-no-evil_monkey:': '🙉',\n",
              " ':heart_decoration:': '💟',\n",
              " ':heart_suit:': '♥',\n",
              " ':heart_with_arrow:': '💘',\n",
              " ':heart_with_ribbon:': '💝',\n",
              " ':heavy_check_mark:': '✔',\n",
              " ':heavy_division_sign:': '➗',\n",
              " ':heavy_dollar_sign:': '💲',\n",
              " ':heavy_heart_exclamation:': '❣',\n",
              " ':heavy_large_circle:': '⭕',\n",
              " ':heavy_minus_sign:': '➖',\n",
              " ':heavy_multiplication_x:': '✖',\n",
              " ':heavy_plus_sign:': '➕',\n",
              " ':hedgehog:': '\\U0001f994',\n",
              " ':helicopter:': '🚁',\n",
              " ':herb:': '🌿',\n",
              " ':hibiscus:': '🌺',\n",
              " ...}"
            ]
          },
          "metadata": {
            "tags": []
          },
          "execution_count": 3
        }
      ]
    },
    {
      "cell_type": "code",
      "metadata": {
        "id": "g0pnMiPh-MqU",
        "colab_type": "code",
        "outputId": "67ab7e79-776c-41ed-d760-3352d43f05ba",
        "colab": {
          "base_uri": "https://localhost:8080/",
          "height": 34
        }
      },
      "source": [
        "emoji.emojize(':flushed_face:')"
      ],
      "execution_count": 0,
      "outputs": [
        {
          "output_type": "execute_result",
          "data": {
            "text/plain": [
              "'😳'"
            ]
          },
          "metadata": {
            "tags": []
          },
          "execution_count": 4
        }
      ]
    },
    {
      "cell_type": "code",
      "metadata": {
        "id": "Wku7umlD-Z_v",
        "colab_type": "code",
        "outputId": "449199de-5be5-4912-8368-8c34317bf808",
        "colab": {
          "base_uri": "https://localhost:8080/",
          "height": 34
        }
      },
      "source": [
        "print(emoji.emojize(\":glass_of_milk:\"))"
      ],
      "execution_count": 0,
      "outputs": [
        {
          "output_type": "stream",
          "text": [
            "🥛\n"
          ],
          "name": "stdout"
        }
      ]
    },
    {
      "cell_type": "code",
      "metadata": {
        "id": "nfF3ZF5y-zm6",
        "colab_type": "code",
        "outputId": "88c19eb2-0627-4399-8721-66a07ce59929",
        "colab": {
          "resources": {
            "http://localhost:8080/nbextensions/google.colab/files.js": {
              "data": "Ly8gQ29weXJpZ2h0IDIwMTcgR29vZ2xlIExMQwovLwovLyBMaWNlbnNlZCB1bmRlciB0aGUgQXBhY2hlIExpY2Vuc2UsIFZlcnNpb24gMi4wICh0aGUgIkxpY2Vuc2UiKTsKLy8geW91IG1heSBub3QgdXNlIHRoaXMgZmlsZSBleGNlcHQgaW4gY29tcGxpYW5jZSB3aXRoIHRoZSBMaWNlbnNlLgovLyBZb3UgbWF5IG9idGFpbiBhIGNvcHkgb2YgdGhlIExpY2Vuc2UgYXQKLy8KLy8gICAgICBodHRwOi8vd3d3LmFwYWNoZS5vcmcvbGljZW5zZXMvTElDRU5TRS0yLjAKLy8KLy8gVW5sZXNzIHJlcXVpcmVkIGJ5IGFwcGxpY2FibGUgbGF3IG9yIGFncmVlZCB0byBpbiB3cml0aW5nLCBzb2Z0d2FyZQovLyBkaXN0cmlidXRlZCB1bmRlciB0aGUgTGljZW5zZSBpcyBkaXN0cmlidXRlZCBvbiBhbiAiQVMgSVMiIEJBU0lTLAovLyBXSVRIT1VUIFdBUlJBTlRJRVMgT1IgQ09ORElUSU9OUyBPRiBBTlkgS0lORCwgZWl0aGVyIGV4cHJlc3Mgb3IgaW1wbGllZC4KLy8gU2VlIHRoZSBMaWNlbnNlIGZvciB0aGUgc3BlY2lmaWMgbGFuZ3VhZ2UgZ292ZXJuaW5nIHBlcm1pc3Npb25zIGFuZAovLyBsaW1pdGF0aW9ucyB1bmRlciB0aGUgTGljZW5zZS4KCi8qKgogKiBAZmlsZW92ZXJ2aWV3IEhlbHBlcnMgZm9yIGdvb2dsZS5jb2xhYiBQeXRob24gbW9kdWxlLgogKi8KKGZ1bmN0aW9uKHNjb3BlKSB7CmZ1bmN0aW9uIHNwYW4odGV4dCwgc3R5bGVBdHRyaWJ1dGVzID0ge30pIHsKICBjb25zdCBlbGVtZW50ID0gZG9jdW1lbnQuY3JlYXRlRWxlbWVudCgnc3BhbicpOwogIGVsZW1lbnQudGV4dENvbnRlbnQgPSB0ZXh0OwogIGZvciAoY29uc3Qga2V5IG9mIE9iamVjdC5rZXlzKHN0eWxlQXR0cmlidXRlcykpIHsKICAgIGVsZW1lbnQuc3R5bGVba2V5XSA9IHN0eWxlQXR0cmlidXRlc1trZXldOwogIH0KICByZXR1cm4gZWxlbWVudDsKfQoKLy8gTWF4IG51bWJlciBvZiBieXRlcyB3aGljaCB3aWxsIGJlIHVwbG9hZGVkIGF0IGEgdGltZS4KY29uc3QgTUFYX1BBWUxPQURfU0laRSA9IDEwMCAqIDEwMjQ7Ci8vIE1heCBhbW91bnQgb2YgdGltZSB0byBibG9jayB3YWl0aW5nIGZvciB0aGUgdXNlci4KY29uc3QgRklMRV9DSEFOR0VfVElNRU9VVF9NUyA9IDMwICogMTAwMDsKCmZ1bmN0aW9uIF91cGxvYWRGaWxlcyhpbnB1dElkLCBvdXRwdXRJZCkgewogIGNvbnN0IHN0ZXBzID0gdXBsb2FkRmlsZXNTdGVwKGlucHV0SWQsIG91dHB1dElkKTsKICBjb25zdCBvdXRwdXRFbGVtZW50ID0gZG9jdW1lbnQuZ2V0RWxlbWVudEJ5SWQob3V0cHV0SWQpOwogIC8vIENhY2hlIHN0ZXBzIG9uIHRoZSBvdXRwdXRFbGVtZW50IHRvIG1ha2UgaXQgYXZhaWxhYmxlIGZvciB0aGUgbmV4dCBjYWxsCiAgLy8gdG8gdXBsb2FkRmlsZXNDb250aW51ZSBmcm9tIFB5dGhvbi4KICBvdXRwdXRFbGVtZW50LnN0ZXBzID0gc3RlcHM7CgogIHJldHVybiBfdXBsb2FkRmlsZXNDb250aW51ZShvdXRwdXRJZCk7Cn0KCi8vIFRoaXMgaXMgcm91Z2hseSBhbiBhc3luYyBnZW5lcmF0b3IgKG5vdCBzdXBwb3J0ZWQgaW4gdGhlIGJyb3dzZXIgeWV0KSwKLy8gd2hlcmUgdGhlcmUgYXJlIG11bHRpcGxlIGFzeW5jaHJvbm91cyBzdGVwcyBhbmQgdGhlIFB5dGhvbiBzaWRlIGlzIGdvaW5nCi8vIHRvIHBvbGwgZm9yIGNvbXBsZXRpb24gb2YgZWFjaCBzdGVwLgovLyBUaGlzIHVzZXMgYSBQcm9taXNlIHRvIGJsb2NrIHRoZSBweXRob24gc2lkZSBvbiBjb21wbGV0aW9uIG9mIGVhY2ggc3RlcCwKLy8gdGhlbiBwYXNzZXMgdGhlIHJlc3VsdCBvZiB0aGUgcHJldmlvdXMgc3RlcCBhcyB0aGUgaW5wdXQgdG8gdGhlIG5leHQgc3RlcC4KZnVuY3Rpb24gX3VwbG9hZEZpbGVzQ29udGludWUob3V0cHV0SWQpIHsKICBjb25zdCBvdXRwdXRFbGVtZW50ID0gZG9jdW1lbnQuZ2V0RWxlbWVudEJ5SWQob3V0cHV0SWQpOwogIGNvbnN0IHN0ZXBzID0gb3V0cHV0RWxlbWVudC5zdGVwczsKCiAgY29uc3QgbmV4dCA9IHN0ZXBzLm5leHQob3V0cHV0RWxlbWVudC5sYXN0UHJvbWlzZVZhbHVlKTsKICByZXR1cm4gUHJvbWlzZS5yZXNvbHZlKG5leHQudmFsdWUucHJvbWlzZSkudGhlbigodmFsdWUpID0+IHsKICAgIC8vIENhY2hlIHRoZSBsYXN0IHByb21pc2UgdmFsdWUgdG8gbWFrZSBpdCBhdmFpbGFibGUgdG8gdGhlIG5leHQKICAgIC8vIHN0ZXAgb2YgdGhlIGdlbmVyYXRvci4KICAgIG91dHB1dEVsZW1lbnQubGFzdFByb21pc2VWYWx1ZSA9IHZhbHVlOwogICAgcmV0dXJuIG5leHQudmFsdWUucmVzcG9uc2U7CiAgfSk7Cn0KCi8qKgogKiBHZW5lcmF0b3IgZnVuY3Rpb24gd2hpY2ggaXMgY2FsbGVkIGJldHdlZW4gZWFjaCBhc3luYyBzdGVwIG9mIHRoZSB1cGxvYWQKICogcHJvY2Vzcy4KICogQHBhcmFtIHtzdHJpbmd9IGlucHV0SWQgRWxlbWVudCBJRCBvZiB0aGUgaW5wdXQgZmlsZSBwaWNrZXIgZWxlbWVudC4KICogQHBhcmFtIHtzdHJpbmd9IG91dHB1dElkIEVsZW1lbnQgSUQgb2YgdGhlIG91dHB1dCBkaXNwbGF5LgogKiBAcmV0dXJuIHshSXRlcmFibGU8IU9iamVjdD59IEl0ZXJhYmxlIG9mIG5leHQgc3RlcHMuCiAqLwpmdW5jdGlvbiogdXBsb2FkRmlsZXNTdGVwKGlucHV0SWQsIG91dHB1dElkKSB7CiAgY29uc3QgaW5wdXRFbGVtZW50ID0gZG9jdW1lbnQuZ2V0RWxlbWVudEJ5SWQoaW5wdXRJZCk7CiAgaW5wdXRFbGVtZW50LmRpc2FibGVkID0gZmFsc2U7CgogIGNvbnN0IG91dHB1dEVsZW1lbnQgPSBkb2N1bWVudC5nZXRFbGVtZW50QnlJZChvdXRwdXRJZCk7CiAgb3V0cHV0RWxlbWVudC5pbm5lckhUTUwgPSAnJzsKCiAgY29uc3QgcGlja2VkUHJvbWlzZSA9IG5ldyBQcm9taXNlKChyZXNvbHZlKSA9PiB7CiAgICBpbnB1dEVsZW1lbnQuYWRkRXZlbnRMaXN0ZW5lcignY2hhbmdlJywgKGUpID0+IHsKICAgICAgcmVzb2x2ZShlLnRhcmdldC5maWxlcyk7CiAgICB9KTsKICB9KTsKCiAgY29uc3QgY2FuY2VsID0gZG9jdW1lbnQuY3JlYXRlRWxlbWVudCgnYnV0dG9uJyk7CiAgaW5wdXRFbGVtZW50LnBhcmVudEVsZW1lbnQuYXBwZW5kQ2hpbGQoY2FuY2VsKTsKICBjYW5jZWwudGV4dENvbnRlbnQgPSAnQ2FuY2VsIHVwbG9hZCc7CiAgY29uc3QgY2FuY2VsUHJvbWlzZSA9IG5ldyBQcm9taXNlKChyZXNvbHZlKSA9PiB7CiAgICBjYW5jZWwub25jbGljayA9ICgpID0+IHsKICAgICAgcmVzb2x2ZShudWxsKTsKICAgIH07CiAgfSk7CgogIC8vIENhbmNlbCB1cGxvYWQgaWYgdXNlciBoYXNuJ3QgcGlja2VkIGFueXRoaW5nIGluIHRpbWVvdXQuCiAgY29uc3QgdGltZW91dFByb21pc2UgPSBuZXcgUHJvbWlzZSgocmVzb2x2ZSkgPT4gewogICAgc2V0VGltZW91dCgoKSA9PiB7CiAgICAgIHJlc29sdmUobnVsbCk7CiAgICB9LCBGSUxFX0NIQU5HRV9USU1FT1VUX01TKTsKICB9KTsKCiAgLy8gV2FpdCBmb3IgdGhlIHVzZXIgdG8gcGljayB0aGUgZmlsZXMuCiAgY29uc3QgZmlsZXMgPSB5aWVsZCB7CiAgICBwcm9taXNlOiBQcm9taXNlLnJhY2UoW3BpY2tlZFByb21pc2UsIHRpbWVvdXRQcm9taXNlLCBjYW5jZWxQcm9taXNlXSksCiAgICByZXNwb25zZTogewogICAgICBhY3Rpb246ICdzdGFydGluZycsCiAgICB9CiAgfTsKCiAgaWYgKCFmaWxlcykgewogICAgcmV0dXJuIHsKICAgICAgcmVzcG9uc2U6IHsKICAgICAgICBhY3Rpb246ICdjb21wbGV0ZScsCiAgICAgIH0KICAgIH07CiAgfQoKICBjYW5jZWwucmVtb3ZlKCk7CgogIC8vIERpc2FibGUgdGhlIGlucHV0IGVsZW1lbnQgc2luY2UgZnVydGhlciBwaWNrcyBhcmUgbm90IGFsbG93ZWQuCiAgaW5wdXRFbGVtZW50LmRpc2FibGVkID0gdHJ1ZTsKCiAgZm9yIChjb25zdCBmaWxlIG9mIGZpbGVzKSB7CiAgICBjb25zdCBsaSA9IGRvY3VtZW50LmNyZWF0ZUVsZW1lbnQoJ2xpJyk7CiAgICBsaS5hcHBlbmQoc3BhbihmaWxlLm5hbWUsIHtmb250V2VpZ2h0OiAnYm9sZCd9KSk7CiAgICBsaS5hcHBlbmQoc3BhbigKICAgICAgICBgKCR7ZmlsZS50eXBlIHx8ICduL2EnfSkgLSAke2ZpbGUuc2l6ZX0gYnl0ZXMsIGAgKwogICAgICAgIGBsYXN0IG1vZGlmaWVkOiAkewogICAgICAgICAgICBmaWxlLmxhc3RNb2RpZmllZERhdGUgPyBmaWxlLmxhc3RNb2RpZmllZERhdGUudG9Mb2NhbGVEYXRlU3RyaW5nKCkgOgogICAgICAgICAgICAgICAgICAgICAgICAgICAgICAgICAgICAnbi9hJ30gLSBgKSk7CiAgICBjb25zdCBwZXJjZW50ID0gc3BhbignMCUgZG9uZScpOwogICAgbGkuYXBwZW5kQ2hpbGQocGVyY2VudCk7CgogICAgb3V0cHV0RWxlbWVudC5hcHBlbmRDaGlsZChsaSk7CgogICAgY29uc3QgZmlsZURhdGFQcm9taXNlID0gbmV3IFByb21pc2UoKHJlc29sdmUpID0+IHsKICAgICAgY29uc3QgcmVhZGVyID0gbmV3IEZpbGVSZWFkZXIoKTsKICAgICAgcmVhZGVyLm9ubG9hZCA9IChlKSA9PiB7CiAgICAgICAgcmVzb2x2ZShlLnRhcmdldC5yZXN1bHQpOwogICAgICB9OwogICAgICByZWFkZXIucmVhZEFzQXJyYXlCdWZmZXIoZmlsZSk7CiAgICB9KTsKICAgIC8vIFdhaXQgZm9yIHRoZSBkYXRhIHRvIGJlIHJlYWR5LgogICAgbGV0IGZpbGVEYXRhID0geWllbGQgewogICAgICBwcm9taXNlOiBmaWxlRGF0YVByb21pc2UsCiAgICAgIHJlc3BvbnNlOiB7CiAgICAgICAgYWN0aW9uOiAnY29udGludWUnLAogICAgICB9CiAgICB9OwoKICAgIC8vIFVzZSBhIGNodW5rZWQgc2VuZGluZyB0byBhdm9pZCBtZXNzYWdlIHNpemUgbGltaXRzLiBTZWUgYi82MjExNTY2MC4KICAgIGxldCBwb3NpdGlvbiA9IDA7CiAgICB3aGlsZSAocG9zaXRpb24gPCBmaWxlRGF0YS5ieXRlTGVuZ3RoKSB7CiAgICAgIGNvbnN0IGxlbmd0aCA9IE1hdGgubWluKGZpbGVEYXRhLmJ5dGVMZW5ndGggLSBwb3NpdGlvbiwgTUFYX1BBWUxPQURfU0laRSk7CiAgICAgIGNvbnN0IGNodW5rID0gbmV3IFVpbnQ4QXJyYXkoZmlsZURhdGEsIHBvc2l0aW9uLCBsZW5ndGgpOwogICAgICBwb3NpdGlvbiArPSBsZW5ndGg7CgogICAgICBjb25zdCBiYXNlNjQgPSBidG9hKFN0cmluZy5mcm9tQ2hhckNvZGUuYXBwbHkobnVsbCwgY2h1bmspKTsKICAgICAgeWllbGQgewogICAgICAgIHJlc3BvbnNlOiB7CiAgICAgICAgICBhY3Rpb246ICdhcHBlbmQnLAogICAgICAgICAgZmlsZTogZmlsZS5uYW1lLAogICAgICAgICAgZGF0YTogYmFzZTY0LAogICAgICAgIH0sCiAgICAgIH07CiAgICAgIHBlcmNlbnQudGV4dENvbnRlbnQgPQogICAgICAgICAgYCR7TWF0aC5yb3VuZCgocG9zaXRpb24gLyBmaWxlRGF0YS5ieXRlTGVuZ3RoKSAqIDEwMCl9JSBkb25lYDsKICAgIH0KICB9CgogIC8vIEFsbCBkb25lLgogIHlpZWxkIHsKICAgIHJlc3BvbnNlOiB7CiAgICAgIGFjdGlvbjogJ2NvbXBsZXRlJywKICAgIH0KICB9Owp9CgpzY29wZS5nb29nbGUgPSBzY29wZS5nb29nbGUgfHwge307CnNjb3BlLmdvb2dsZS5jb2xhYiA9IHNjb3BlLmdvb2dsZS5jb2xhYiB8fCB7fTsKc2NvcGUuZ29vZ2xlLmNvbGFiLl9maWxlcyA9IHsKICBfdXBsb2FkRmlsZXMsCiAgX3VwbG9hZEZpbGVzQ29udGludWUsCn07Cn0pKHNlbGYpOwo=",
              "ok": true,
              "headers": [
                [
                  "content-type",
                  "application/javascript"
                ]
              ],
              "status": 200,
              "status_text": ""
            }
          },
          "base_uri": "https://localhost:8080/",
          "height": 74
        }
      },
      "source": [
        "from google.colab import files\n",
        "uploads = files.upload()"
      ],
      "execution_count": 0,
      "outputs": [
        {
          "output_type": "display_data",
          "data": {
            "text/html": [
              "\n",
              "     <input type=\"file\" id=\"files-aacadf92-d1d2-4b79-9967-36f8dc83d3a7\" name=\"files[]\" multiple disabled />\n",
              "     <output id=\"result-aacadf92-d1d2-4b79-9967-36f8dc83d3a7\">\n",
              "      Upload widget is only available when the cell has been executed in the\n",
              "      current browser session. Please rerun this cell to enable.\n",
              "      </output>\n",
              "      <script src=\"/nbextensions/google.colab/files.js\"></script> "
            ],
            "text/plain": [
              "<IPython.core.display.HTML object>"
            ]
          },
          "metadata": {
            "tags": []
          }
        },
        {
          "output_type": "stream",
          "text": [
            "Saving glove.6B.50d.txt.zip to glove.6B.50d.txt.zip\n"
          ],
          "name": "stdout"
        }
      ]
    },
    {
      "cell_type": "code",
      "metadata": {
        "id": "C4oPQc6I_vNP",
        "colab_type": "code",
        "colab": {}
      },
      "source": [
        "import pandas as pd"
      ],
      "execution_count": 0,
      "outputs": []
    },
    {
      "cell_type": "code",
      "metadata": {
        "id": "lM1gxvD_ANLy",
        "colab_type": "code",
        "colab": {}
      },
      "source": [
        "traindf = pd.read_csv('train_emoji.csv', header = None)\n",
        "testdf = pd.read_csv('test_emoji.csv', header = None)"
      ],
      "execution_count": 0,
      "outputs": []
    },
    {
      "cell_type": "code",
      "metadata": {
        "id": "hSvRNs7uAmp_",
        "colab_type": "code",
        "outputId": "e52144e9-8dd3-4db2-b086-9ce1f4540200",
        "colab": {
          "base_uri": "https://localhost:8080/",
          "height": 204
        }
      },
      "source": [
        "traindf.head()"
      ],
      "execution_count": 0,
      "outputs": [
        {
          "output_type": "execute_result",
          "data": {
            "text/html": [
              "<div>\n",
              "<style scoped>\n",
              "    .dataframe tbody tr th:only-of-type {\n",
              "        vertical-align: middle;\n",
              "    }\n",
              "\n",
              "    .dataframe tbody tr th {\n",
              "        vertical-align: top;\n",
              "    }\n",
              "\n",
              "    .dataframe thead th {\n",
              "        text-align: right;\n",
              "    }\n",
              "</style>\n",
              "<table border=\"1\" class=\"dataframe\">\n",
              "  <thead>\n",
              "    <tr style=\"text-align: right;\">\n",
              "      <th></th>\n",
              "      <th>0</th>\n",
              "      <th>1</th>\n",
              "      <th>2</th>\n",
              "      <th>3</th>\n",
              "    </tr>\n",
              "  </thead>\n",
              "  <tbody>\n",
              "    <tr>\n",
              "      <th>0</th>\n",
              "      <td>never talk to me again</td>\n",
              "      <td>3</td>\n",
              "      <td>NaN</td>\n",
              "      <td>NaN</td>\n",
              "    </tr>\n",
              "    <tr>\n",
              "      <th>1</th>\n",
              "      <td>I am proud of your achievements</td>\n",
              "      <td>2</td>\n",
              "      <td>NaN</td>\n",
              "      <td>NaN</td>\n",
              "    </tr>\n",
              "    <tr>\n",
              "      <th>2</th>\n",
              "      <td>It is the worst day in my life</td>\n",
              "      <td>3</td>\n",
              "      <td>NaN</td>\n",
              "      <td>NaN</td>\n",
              "    </tr>\n",
              "    <tr>\n",
              "      <th>3</th>\n",
              "      <td>Miss you so much</td>\n",
              "      <td>0</td>\n",
              "      <td>NaN</td>\n",
              "      <td>[0]</td>\n",
              "    </tr>\n",
              "    <tr>\n",
              "      <th>4</th>\n",
              "      <td>food is life</td>\n",
              "      <td>4</td>\n",
              "      <td>NaN</td>\n",
              "      <td>NaN</td>\n",
              "    </tr>\n",
              "  </tbody>\n",
              "</table>\n",
              "</div>"
            ],
            "text/plain": [
              "                                 0  1   2     3\n",
              "0           never talk to me again  3 NaN   NaN\n",
              "1  I am proud of your achievements  2 NaN   NaN\n",
              "2   It is the worst day in my life  3 NaN   NaN\n",
              "3                 Miss you so much  0 NaN   [0]\n",
              "4                     food is life  4 NaN   NaN"
            ]
          },
          "metadata": {
            "tags": []
          },
          "execution_count": 17
        }
      ]
    },
    {
      "cell_type": "code",
      "metadata": {
        "id": "osKGCuy6Ao5G",
        "colab_type": "code",
        "colab": {}
      },
      "source": [
        "emoji_dict ={\n",
        "    0: 'beating_heart',\n",
        "    1: 'baseball',\n",
        "    2: 'beaming_face_with_smiling_eyes',\n",
        "    3: 'disappointed_face',\n",
        "    4: \n",
        "}"
      ],
      "execution_count": 0,
      "outputs": []
    },
    {
      "cell_type": "code",
      "metadata": {
        "id": "oUMX-nu1BCfR",
        "colab_type": "code",
        "outputId": "f2db026c-1157-4cb8-f751-2b548080e2f3",
        "colab": {
          "base_uri": "https://localhost:8080/",
          "height": 34
        }
      },
      "source": [
        "XT = traindf[0]\n",
        "YT = traindf[1]\n",
        "print(XT.shape, YT.shape)\n"
      ],
      "execution_count": 0,
      "outputs": [
        {
          "output_type": "stream",
          "text": [
            "(132,) (132,)\n"
          ],
          "name": "stdout"
        }
      ]
    },
    {
      "cell_type": "code",
      "metadata": {
        "id": "Xl5TlrFRBqZ_",
        "colab_type": "code",
        "colab": {}
      },
      "source": [
        "def convertIntoList(sentences):\n",
        "    total = sentences.shape[0]\n",
        "    X = []\n",
        "    for i in range(total):\n",
        "        X.append(sentences[i].lower().split())\n",
        "    \n",
        "    return X"
      ],
      "execution_count": 0,
      "outputs": []
    },
    {
      "cell_type": "code",
      "metadata": {
        "id": "_wOl7zcvCDv1",
        "colab_type": "code",
        "colab": {}
      },
      "source": [
        "XT = convertIntoList(XT)"
      ],
      "execution_count": 0,
      "outputs": []
    },
    {
      "cell_type": "code",
      "metadata": {
        "id": "QIriM2PkCGW5",
        "colab_type": "code",
        "outputId": "9bdedb95-42bf-4da5-dfdb-876ca8ac0406",
        "colab": {
          "base_uri": "https://localhost:8080/",
          "height": 34
        }
      },
      "source": [
        "XT[0]"
      ],
      "execution_count": 0,
      "outputs": [
        {
          "output_type": "execute_result",
          "data": {
            "text/plain": [
              "['never', 'talk', 'to', 'me', 'again']"
            ]
          },
          "metadata": {
            "tags": []
          },
          "execution_count": 23
        }
      ]
    },
    {
      "cell_type": "code",
      "metadata": {
        "id": "TvNGJUmECHaO",
        "colab_type": "code",
        "outputId": "3841b14a-3fa3-4373-dce6-a5971fa017fc",
        "colab": {
          "base_uri": "https://localhost:8080/",
          "height": 272
        }
      },
      "source": [
        "!wget https://www.kaggle.com/watts2/glove6b50dtxt/downloads/glove.6B.50d.txt"
      ],
      "execution_count": 0,
      "outputs": [
        {
          "output_type": "stream",
          "text": [
            "--2019-08-04 10:03:49--  https://www.kaggle.com/watts2/glove6b50dtxt/downloads/glove.6B.50d.txt\n",
            "Resolving www.kaggle.com (www.kaggle.com)... 35.244.233.98\n",
            "Connecting to www.kaggle.com (www.kaggle.com)|35.244.233.98|:443... connected.\n",
            "HTTP request sent, awaiting response... 302 Found\n",
            "Location: /account/login?returnUrl=%2Fwatts2%2Fglove6b50dtxt%2Fdata [following]\n",
            "--2019-08-04 10:03:49--  https://www.kaggle.com/account/login?returnUrl=%2Fwatts2%2Fglove6b50dtxt%2Fdata\n",
            "Reusing existing connection to www.kaggle.com:443.\n",
            "HTTP request sent, awaiting response... 200 OK\n",
            "Length: unspecified [text/html]\n",
            "Saving to: ‘glove.6B.50d.txt’\n",
            "\n",
            "\rglove.6B.50d.txt        [<=>                 ]       0  --.-KB/s               \rglove.6B.50d.txt        [ <=>                ]   9.75K  --.-KB/s    in 0.01s   \n",
            "\n",
            "2019-08-04 10:03:49 (962 KB/s) - ‘glove.6B.50d.txt’ saved [9980]\n",
            "\n"
          ],
          "name": "stdout"
        }
      ]
    },
    {
      "cell_type": "code",
      "metadata": {
        "id": "aZtsRrbFC9-z",
        "colab_type": "code",
        "outputId": "e3b93446-ea12-4090-d15b-e03a7d154260",
        "colab": {
          "base_uri": "https://localhost:8080/",
          "height": 34
        }
      },
      "source": [
        ""
      ],
      "execution_count": 0,
      "outputs": [
        {
          "output_type": "stream",
          "text": [
            "/bin/bash: line 0: cd: 1: Not a directory\n"
          ],
          "name": "stdout"
        }
      ]
    },
    {
      "cell_type": "code",
      "metadata": {
        "id": "vBPJtwXUDAGI",
        "colab_type": "code",
        "outputId": "a7e5ab9e-7dfb-4df7-ac63-752d35b49408",
        "colab": {
          "base_uri": "https://localhost:8080/",
          "height": 51
        }
      },
      "source": [
        "!ls"
      ],
      "execution_count": 0,
      "outputs": [
        {
          "output_type": "stream",
          "text": [
            " 1\t\t    glove6b50dtxt.zip  'test_emoji (1).csv'   train_emoji.csv\n",
            " glove.6B.50d.txt   sample_data         test_emoji.csv\n"
          ],
          "name": "stdout"
        }
      ]
    },
    {
      "cell_type": "code",
      "metadata": {
        "id": "NQLSkYQXDFga",
        "colab_type": "code",
        "colab": {}
      },
      "source": [
        "import numpy as np\n",
        "\n",
        "def glove_vec(path):\n",
        "    with open(path, 'r', encoding='utf-8') as f:\n",
        "        words = set()\n",
        "        word_vec = {}\n",
        "        for line in f:\n",
        "            line = line.strip().split()\n",
        "            key = line[0]\n",
        "            words.add(key)\n",
        "            val = np.array(line[1:], dtype = np.float64)\n",
        "            word_vec[key] = val\n",
        "\n",
        "        word2idx = {}\n",
        "        idx2word = {}\n",
        "\n",
        "        for i, w in enumerate(sorted(words)):\n",
        "            word2idx = i\n",
        "            idx2word = w\n",
        "\n",
        "    return word_vec, word2idx, idx2word"
      ],
      "execution_count": 0,
      "outputs": []
    },
    {
      "cell_type": "code",
      "metadata": {
        "id": "p4F1ppIfELM_",
        "colab_type": "code",
        "outputId": "3c965727-f38e-42f7-c9ea-38998dbe0dfd",
        "colab": {
          "base_uri": "https://localhost:8080/",
          "height": 282
        }
      },
      "source": [
        "glove_vec('./glove.6B.50d.txt')"
      ],
      "execution_count": 0,
      "outputs": [
        {
          "output_type": "error",
          "ename": "ValueError",
          "evalue": "ignored",
          "traceback": [
            "\u001b[0;31m---------------------------------------------------------------------------\u001b[0m",
            "\u001b[0;31mValueError\u001b[0m                                Traceback (most recent call last)",
            "\u001b[0;32m<ipython-input-40-fe240553e129>\u001b[0m in \u001b[0;36m<module>\u001b[0;34m()\u001b[0m\n\u001b[0;32m----> 1\u001b[0;31m \u001b[0mglove_vec\u001b[0m\u001b[0;34m(\u001b[0m\u001b[0;34m'./glove.6B.50d.txt'\u001b[0m\u001b[0;34m)\u001b[0m\u001b[0;34m\u001b[0m\u001b[0;34m\u001b[0m\u001b[0m\n\u001b[0m",
            "\u001b[0;32m<ipython-input-39-bfca5b40e6fc>\u001b[0m in \u001b[0;36mglove_vec\u001b[0;34m(path)\u001b[0m\n\u001b[1;32m      9\u001b[0m             \u001b[0mkey\u001b[0m \u001b[0;34m=\u001b[0m \u001b[0mline\u001b[0m\u001b[0;34m[\u001b[0m\u001b[0;36m0\u001b[0m\u001b[0;34m]\u001b[0m\u001b[0;34m\u001b[0m\u001b[0;34m\u001b[0m\u001b[0m\n\u001b[1;32m     10\u001b[0m             \u001b[0mwords\u001b[0m\u001b[0;34m.\u001b[0m\u001b[0madd\u001b[0m\u001b[0;34m(\u001b[0m\u001b[0mkey\u001b[0m\u001b[0;34m)\u001b[0m\u001b[0;34m\u001b[0m\u001b[0;34m\u001b[0m\u001b[0m\n\u001b[0;32m---> 11\u001b[0;31m             \u001b[0mval\u001b[0m \u001b[0;34m=\u001b[0m \u001b[0mnp\u001b[0m\u001b[0;34m.\u001b[0m\u001b[0marray\u001b[0m\u001b[0;34m(\u001b[0m\u001b[0mline\u001b[0m\u001b[0;34m[\u001b[0m\u001b[0;36m1\u001b[0m\u001b[0;34m:\u001b[0m\u001b[0;34m]\u001b[0m\u001b[0;34m,\u001b[0m \u001b[0mdtype\u001b[0m \u001b[0;34m=\u001b[0m \u001b[0mnp\u001b[0m\u001b[0;34m.\u001b[0m\u001b[0mfloat64\u001b[0m\u001b[0;34m)\u001b[0m\u001b[0;34m\u001b[0m\u001b[0;34m\u001b[0m\u001b[0m\n\u001b[0m\u001b[1;32m     12\u001b[0m             \u001b[0mword_vec\u001b[0m\u001b[0;34m[\u001b[0m\u001b[0mkey\u001b[0m\u001b[0;34m]\u001b[0m \u001b[0;34m=\u001b[0m \u001b[0mval\u001b[0m\u001b[0;34m\u001b[0m\u001b[0;34m\u001b[0m\u001b[0m\n\u001b[1;32m     13\u001b[0m \u001b[0;34m\u001b[0m\u001b[0m\n",
            "\u001b[0;31mValueError\u001b[0m: could not convert string to float: 'html>'"
          ]
        }
      ]
    },
    {
      "cell_type": "code",
      "metadata": {
        "id": "HMznBAfsGUvp",
        "colab_type": "code",
        "colab": {}
      },
      "source": [
        "def getEmbeddingOutput(X):\n",
        "    embedding_output = np.zeros((len(X), 10, 50))\n",
        "    for ix in range(X.shape[0]):\n",
        "        for jx in range(len(X[ix])):\n",
        "            embedding_output[ix][jx] = word_vec[X[ix][jx]]\n",
        "    \n",
        "    return embedding_output"
      ],
      "execution_count": 0,
      "outputs": []
    },
    {
      "cell_type": "code",
      "metadata": {
        "id": "n1q084PNHhw2",
        "colab_type": "code",
        "colab": {}
      },
      "source": [
        "xT_processed = getEmbeddingOutput(XT)"
      ],
      "execution_count": 0,
      "outputs": []
    },
    {
      "cell_type": "code",
      "metadata": {
        "id": "2albfsSBEY3n",
        "colab_type": "code",
        "colab": {}
      },
      "source": [
        "from keras.models import Sequential\n",
        "from keras.layers import *\n",
        "from keras.utils import to_categorical\n"
      ],
      "execution_count": 0,
      "outputs": []
    },
    {
      "cell_type": "code",
      "metadata": {
        "id": "I9FKMWIUG4jR",
        "colab_type": "code",
        "colab": {}
      },
      "source": [
        "model = Sequential()\n",
        "model.add(SimpleRNN(32, input_shape=(10,50)))\n",
        "model.add(Dropout(0.4))\n",
        "model.add(Dense(5))\n",
        "model.add(Activation('softmax'))\n",
        "model.summary()"
      ],
      "execution_count": 0,
      "outputs": []
    },
    {
      "cell_type": "code",
      "metadata": {
        "id": "BMUUmyhyHaHz",
        "colab_type": "code",
        "colab": {}
      },
      "source": [
        "model.compile(optimizer = 'adam', loss = 'categorical_crossentropy', metrics = ['acc'])\n",
        "model.fit(xT_processed, YT, epochs = 40, validation_split = 0.1)"
      ],
      "execution_count": 0,
      "outputs": []
    },
    {
      "cell_type": "code",
      "metadata": {
        "id": "O4NWtD-NGIt_",
        "colab_type": "code",
        "outputId": "506c6679-f75f-46c7-d015-54ada6afd8da",
        "colab": {
          "base_uri": "https://localhost:8080/",
          "height": 622
        }
      },
      "source": [
        "import keras\n",
        "from keras.models import Sequential\n",
        "from keras.layers import Dense, Activation, Dropout, Flatten, Conv2D, MaxPooling2D\n",
        "from keras.layers.normalization import BatchNormalization\n",
        "import numpy as np\n",
        "np.random.seed(1000)\n",
        "#Instantiate an empty model\n",
        "model = Sequential()\n",
        "\n",
        "# 1st Convolutional Layer\n",
        "model.add(Conv2D(filters=16, input_shape=(224,224,3), kernel_size=(11,11), strides=(4,4), padding='valid'))\n",
        "model.add(Activation('relu'))\n",
        "# Max Pooling\n",
        "model.add(MaxPooling2D(pool_size=(2,2), strides=(2,2), padding='valid'))\n",
        "\n",
        "# 2nd Convolutional Layer\n",
        "model.add(Conv2D(filters=20, kernel_size=(11,11), strides=(1,1), padding='valid'))\n",
        "model.add(Activation('relu'))\n",
        "# Max Pooling\n",
        "model.add(MaxPooling2D(pool_size=(2,2), strides=(2,2), padding='valid'))\n",
        "# 4th Convolutional Layer\n",
        "model.add(Conv2D(filters=30, kernel_size=(3,3), strides=(1,1), padding='valid'))\n",
        "model.add(Activation('relu'))\n",
        "\n",
        "# Max Pooling\n",
        "model.add(MaxPooling2D(pool_size=(2,2), strides=(2,2), padding='valid'))\n",
        "\n",
        "# Passing it to a Fully Connected layer\n",
        "model.add(Flatten())\n",
        "# 1st Fully Connected Layer\n",
        "model.add(Dense(48,  input_shape=(224*224*3,)))\n",
        "model.add(Activation('relu'))\n",
        "# Add Dropout to prevent overfitting\n",
        "# model.add(Dropout(0.4))\n",
        "\n",
        "# Output Layer\n",
        "model.add(Dense(1))\n",
        "model.add(Activation('softmax'))\n",
        "\n",
        "model.summary()\n",
        "\n",
        "# Compile the model\n",
        "model.compile(loss=keras.losses.categorical_crossentropy, optimizer='adam', metrics=['accuracy'])"
      ],
      "execution_count": 0,
      "outputs": [
        {
          "output_type": "stream",
          "text": [
            "Model: \"sequential_2\"\n",
            "_________________________________________________________________\n",
            "Layer (type)                 Output Shape              Param #   \n",
            "=================================================================\n",
            "conv2d_4 (Conv2D)            (None, 54, 54, 16)        5824      \n",
            "_________________________________________________________________\n",
            "activation_6 (Activation)    (None, 54, 54, 16)        0         \n",
            "_________________________________________________________________\n",
            "max_pooling2d_4 (MaxPooling2 (None, 27, 27, 16)        0         \n",
            "_________________________________________________________________\n",
            "conv2d_5 (Conv2D)            (None, 17, 17, 20)        38740     \n",
            "_________________________________________________________________\n",
            "activation_7 (Activation)    (None, 17, 17, 20)        0         \n",
            "_________________________________________________________________\n",
            "max_pooling2d_5 (MaxPooling2 (None, 8, 8, 20)          0         \n",
            "_________________________________________________________________\n",
            "conv2d_6 (Conv2D)            (None, 6, 6, 30)          5430      \n",
            "_________________________________________________________________\n",
            "activation_8 (Activation)    (None, 6, 6, 30)          0         \n",
            "_________________________________________________________________\n",
            "max_pooling2d_6 (MaxPooling2 (None, 3, 3, 30)          0         \n",
            "_________________________________________________________________\n",
            "flatten_2 (Flatten)          (None, 270)               0         \n",
            "_________________________________________________________________\n",
            "dense_3 (Dense)              (None, 48)                13008     \n",
            "_________________________________________________________________\n",
            "activation_9 (Activation)    (None, 48)                0         \n",
            "_________________________________________________________________\n",
            "dense_4 (Dense)              (None, 1)                 49        \n",
            "_________________________________________________________________\n",
            "activation_10 (Activation)   (None, 1)                 0         \n",
            "=================================================================\n",
            "Total params: 63,051\n",
            "Trainable params: 63,051\n",
            "Non-trainable params: 0\n",
            "_________________________________________________________________\n"
          ],
          "name": "stdout"
        }
      ]
    },
    {
      "cell_type": "code",
      "metadata": {
        "id": "BQE3hj1ZGPh8",
        "colab_type": "code",
        "colab": {}
      },
      "source": [
        "import cv2\n",
        "\n",
        "train = []\n",
        "\n",
        "for i in range(0,15000):\n",
        "    img = cv2.imread('PATCHES/'+data['path'][i])\n",
        "    img = cv2.resize(img, (224,224))\n",
        "    img = cv2.cvtColor(img, cv2.COLOR_BGR2RGB)\n",
        "    train.append((img, data['label'][i]))"
      ],
      "execution_count": 0,
      "outputs": []
    },
    {
      "cell_type": "code",
      "metadata": {
        "id": "eS4WpRUYMC6h",
        "colab_type": "code",
        "colab": {}
      },
      "source": [
        "from keras.utils import to_categorical\n",
        "y_train = to_categorical(y_train)"
      ],
      "execution_count": 0,
      "outputs": []
    },
    {
      "cell_type": "code",
      "metadata": {
        "id": "Mekg9spYMOOO",
        "colab_type": "code",
        "outputId": "626b8641-911a-426f-d5be-27a30922b579",
        "colab": {
          "base_uri": "https://localhost:8080/",
          "height": 168
        }
      },
      "source": [
        "print(y)"
      ],
      "execution_count": 0,
      "outputs": [
        {
          "output_type": "stream",
          "text": [
            "[[0. 1.]\n",
            " [1. 0.]\n",
            " [0. 1.]\n",
            " [1. 0.]\n",
            " [1. 0.]\n",
            " [0. 1.]\n",
            " [1. 0.]\n",
            " [0. 1.]\n",
            " [0. 1.]]\n"
          ],
          "name": "stdout"
        }
      ]
    },
    {
      "cell_type": "code",
      "metadata": {
        "id": "ueqWGCixMPjL",
        "colab_type": "code",
        "outputId": "a0e8921d-6f9f-4263-8b54-aa1ff328885f",
        "colab": {
          "base_uri": "https://localhost:8080/",
          "height": 34
        }
      },
      "source": [
        "from keras.models import model_from_json\n",
        "\n",
        "\n",
        "json_file = open('model.json', 'r')\n",
        "loaded_model_json = json_file.read()\n",
        "json_file.close()\n",
        "loaded_model = model_from_json(loaded_model_json)\n",
        "# load weights into new model\n",
        "loaded_model.load_weights(\"model.h5\")\n",
        "print(\"Loaded model from disk\")"
      ],
      "execution_count": 0,
      "outputs": [
        {
          "output_type": "stream",
          "text": [
            "Using TensorFlow backend.\n"
          ],
          "name": "stderr"
        }
      ]
    },
    {
      "cell_type": "code",
      "metadata": {
        "id": "sXgJbqCX4UYu",
        "colab_type": "code",
        "outputId": "9092c07b-51a6-4c78-d560-1b6621c083e8",
        "colab": {
          "base_uri": "https://localhost:8080/",
          "height": 655
        }
      },
      "source": [
        "loaded_model.summary()"
      ],
      "execution_count": 0,
      "outputs": [
        {
          "output_type": "stream",
          "text": [
            "Model: \"sequential_1\"\n",
            "_________________________________________________________________\n",
            "Layer (type)                 Output Shape              Param #   \n",
            "=================================================================\n",
            "conv2d_1 (Conv2D)            (None, 38, 38, 16)        5824      \n",
            "_________________________________________________________________\n",
            "activation_1 (Activation)    (None, 38, 38, 16)        0         \n",
            "_________________________________________________________________\n",
            "max_pooling2d_1 (MaxPooling2 (None, 19, 19, 16)        0         \n",
            "_________________________________________________________________\n",
            "conv2d_2 (Conv2D)            (None, 9, 9, 20)          38740     \n",
            "_________________________________________________________________\n",
            "activation_2 (Activation)    (None, 9, 9, 20)          0         \n",
            "_________________________________________________________________\n",
            "max_pooling2d_2 (MaxPooling2 (None, 4, 4, 20)          0         \n",
            "_________________________________________________________________\n",
            "conv2d_3 (Conv2D)            (None, 2, 2, 10)          1810      \n",
            "_________________________________________________________________\n",
            "activation_3 (Activation)    (None, 2, 2, 10)          0         \n",
            "_________________________________________________________________\n",
            "max_pooling2d_3 (MaxPooling2 (None, 1, 1, 10)          0         \n",
            "_________________________________________________________________\n",
            "flatten_1 (Flatten)          (None, 10)                0         \n",
            "_________________________________________________________________\n",
            "dense_1 (Dense)              (None, 48)                528       \n",
            "_________________________________________________________________\n",
            "activation_4 (Activation)    (None, 48)                0         \n",
            "_________________________________________________________________\n",
            "dropout_1 (Dropout)          (None, 48)                0         \n",
            "_________________________________________________________________\n",
            "dense_2 (Dense)              (None, 1)                 49        \n",
            "_________________________________________________________________\n",
            "activation_5 (Activation)    (None, 1)                 0         \n",
            "=================================================================\n",
            "Total params: 46,951\n",
            "Trainable params: 46,951\n",
            "Non-trainable params: 0\n",
            "_________________________________________________________________\n"
          ],
          "name": "stdout"
        }
      ]
    },
    {
      "cell_type": "code",
      "metadata": {
        "id": "9ABhysz-5ifn",
        "colab_type": "code",
        "colab": {}
      },
      "source": [
        "camera_1 = {\n",
        "    'lot_1' : [(360, 160), (400, 199)], \n",
        "    'lot_2' : [(365, 289), (443, 366)],\n",
        "    'lot_3' : [(464,347), (573, 452)],\n",
        "    'lot_4' : [(111, 263), (165, 315)],\n",
        "    'lot_5' : [(71, 227), (118, 273)],\n",
        "    'lot_6' : [(41, 197), (79, 235)],\n",
        "    'lot_7' : [(12,173), (48, 203)],\n",
        "    'lot_8' : [(39, 98), (76, 134)],\n",
        "}"
      ],
      "execution_count": 0,
      "outputs": []
    },
    {
      "cell_type": "code",
      "metadata": {
        "id": "LRYVzQhq5939",
        "colab_type": "code",
        "outputId": "dd1e2db5-55c2-4643-e34a-b13bb5d2fadb",
        "colab": {
          "base_uri": "https://localhost:8080/",
          "height": 286
        }
      },
      "source": [
        "import cv2\n",
        "import numpy as np\n",
        "import matplotlib.pyplot as plt\n",
        "\n",
        "#image = cv2.imread('camera 1_1.jpg')\n",
        "image = cv2.imread('2015-11-16_1710.jpg')\n",
        "\n",
        "image = cv2.resize(image, (610, 457))\n",
        "image = cv2.cvtColor(image, cv2.COLOR_BGR2RGB)\n",
        "plt.imshow(image)\n"
      ],
      "execution_count": 0,
      "outputs": [
        {
          "output_type": "execute_result",
          "data": {
            "text/plain": [
              "<matplotlib.image.AxesImage at 0x7f653ffb4cc0>"
            ]
          },
          "metadata": {
            "tags": []
          },
          "execution_count": 37
        },
        {
          "output_type": "display_data",
          "data": {
            "image/png": "[encoded data removed]",
            "text/plain": [
              "<Figure size 432x288 with 1 Axes>"
            ]
          },
          "metadata": {
            "tags": []
          }
        }
      ]
    },
    {
      "cell_type": "code",
      "metadata": {
        "id": "q-3y9ALT5-7C",
        "colab_type": "code",
        "outputId": "cb9df60d-4eb5-4a96-f08e-8873fb4da2f4",
        "colab": {
          "base_uri": "https://localhost:8080/",
          "height": 243
        }
      },
      "source": [
        "fig=plt.figure()\n",
        "columns = 4\n",
        "rows = 2\n",
        "\n",
        "images = np.zeros((8, 48, 48, 3));\n",
        "\n",
        "for no, v in enumerate(camera_1.values()):\n",
        "    x1 = v[0][0] \n",
        "    x2 = v[1][0] \n",
        "    y1 = v[0][1] \n",
        "    y2 = v[1][1] \n",
        "        \n",
        "    img = np.zeros((y2 - y1, x2 - x1, 3), dtype = 'uint8')\n",
        "    \n",
        "    for i in range(y1, y2):\n",
        "        for j in range(x1, x2):\n",
        "            img[i - y1][j - x1] = image[i][j]\n",
        "    \n",
        "    img = cv2.resize(img, (48, 48)) / 255\n",
        "    images[no] = img\n",
        "    fig.add_subplot(rows, columns, no + 1)\n",
        "    plt.imshow(img)\n",
        "    \n",
        "plt.show()"
      ],
      "execution_count": 0,
      "outputs": [
        {
          "output_type": "display_data",
          "data": {
            "image/png": "[encoded data removed]",
            "text/plain": [
              "<Figure size 432x288 with 8 Axes>"
            ]
          },
          "metadata": {
            "tags": []
          }
        }
      ]
    },
    {
      "cell_type": "code",
      "metadata": {
        "id": "tyzYLcBW6x28",
        "colab_type": "code",
        "outputId": "dbdc8f04-716e-4e3b-f965-49ed02e5ca1f",
        "colab": {
          "base_uri": "https://localhost:8080/",
          "height": 286
        }
      },
      "source": [
        "plt.imshow(images[0])"
      ],
      "execution_count": 0,
      "outputs": [
        {
          "output_type": "execute_result",
          "data": {
            "text/plain": [
              "<matplotlib.image.AxesImage at 0x7f653f13f208>"
            ]
          },
          "metadata": {
            "tags": []
          },
          "execution_count": 34
        },
        {
          "output_type": "display_data",
          "data": {
            "image/png": "[encoded data removed]",
            "text/plain": [
              "<Figure size 432x288 with 1 Axes>"
            ]
          },
          "metadata": {
            "tags": []
          }
        }
      ]
    },
    {
      "cell_type": "code",
      "metadata": {
        "id": "X3LL12xP6DO2",
        "colab_type": "code",
        "outputId": "18226bc0-8653-4539-a655-6fb9fa368100",
        "colab": {
          "base_uri": "https://localhost:8080/",
          "height": 151
        }
      },
      "source": [
        "loaded_model.predict(images)"
      ],
      "execution_count": 0,
      "outputs": [
        {
          "output_type": "execute_result",
          "data": {
            "text/plain": [
              "array([[0.75110143],\n",
              "       [0.9999609 ],\n",
              "       [1.        ],\n",
              "       [1.        ],\n",
              "       [0.99993503],\n",
              "       [1.        ],\n",
              "       [0.995222  ],\n",
              "       [0.9999852 ]], dtype=float32)"
            ]
          },
          "metadata": {
            "tags": []
          },
          "execution_count": 31
        }
      ]
    },
    {
      "cell_type": "code",
      "metadata": {
        "id": "CqJadhCR6Lg5",
        "colab_type": "code",
        "colab": {}
      },
      "source": [
        ""
      ],
      "execution_count": 0,
      "outputs": []
    }
  ]
}